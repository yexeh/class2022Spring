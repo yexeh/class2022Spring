{
  "nbformat": 4,
  "nbformat_minor": 0,
  "metadata": {
    "colab": {
      "name": "Untitled6.ipynb",
      "provenance": [],
      "authorship_tag": "ABX9TyOCrJAqRCpvIkd4XxICuul6",
      "include_colab_link": true
    },
    "kernelspec": {
      "name": "python3",
      "display_name": "Python 3"
    },
    "language_info": {
      "name": "python"
    }
  },
  "cells": [
    {
      "cell_type": "markdown",
      "metadata": {
        "id": "view-in-github",
        "colab_type": "text"
      },
      "source": [
        "<a href=\"https://colab.research.google.com/github/yexeh/class2022Spring/blob/main/%EC%97%B0%EC%8A%B5%EA%B3%BC%EC%A0%9C.ipynb\" target=\"_parent\"><img src=\"https://colab.research.google.com/assets/colab-badge.svg\" alt=\"Open In Colab\"/></a>"
      ]
    },
    {
      "cell_type": "code",
      "execution_count": 1,
      "metadata": {
        "colab": {
          "base_uri": "https://localhost:8080/"
        },
        "id": "zhXgdzheTIug",
        "outputId": "922604e5-2969-452f-c31b-209f29ceb57e"
      },
      "outputs": [
        {
          "output_type": "stream",
          "name": "stdout",
          "text": [
            "<class 'int'>\n"
          ]
        }
      ],
      "source": [
        "a = 4; print(type(a))"
      ]
    },
    {
      "cell_type": "code",
      "source": [
        "b = 6.0\n",
        "print(b)"
      ],
      "metadata": {
        "colab": {
          "base_uri": "https://localhost:8080/"
        },
        "id": "jZIjJOMrTO2C",
        "outputId": "3ce16b76-9e39-4373-8953-c63cd97028e3"
      },
      "execution_count": 3,
      "outputs": [
        {
          "output_type": "stream",
          "name": "stdout",
          "text": [
            "6.0\n"
          ]
        }
      ]
    },
    {
      "cell_type": "code",
      "source": [
        "print(type(b))"
      ],
      "metadata": {
        "colab": {
          "base_uri": "https://localhost:8080/"
        },
        "id": "gRrI8HrqTVRN",
        "outputId": "953a8012-24a6-4c98-e64c-b9e0b2251240"
      },
      "execution_count": 4,
      "outputs": [
        {
          "output_type": "stream",
          "name": "stdout",
          "text": [
            "<class 'float'>\n"
          ]
        }
      ]
    },
    {
      "cell_type": "code",
      "source": [
        "a = '123'; print(type(a)); print(a[2])"
      ],
      "metadata": {
        "colab": {
          "base_uri": "https://localhost:8080/"
        },
        "id": "sLdC_rEjWdJK",
        "outputId": "8d588347-5d65-44ce-882e-4d275f3a8a4a"
      },
      "execution_count": 27,
      "outputs": [
        {
          "output_type": "stream",
          "name": "stdout",
          "text": [
            "<class 'str'>\n",
            "3\n"
          ]
        }
      ]
    },
    {
      "cell_type": "code",
      "source": [
        "d = 'hello'; print(type(d)); print(d[4])"
      ],
      "metadata": {
        "colab": {
          "base_uri": "https://localhost:8080/"
        },
        "id": "6mpjeOP1Wt7i",
        "outputId": "862e3a2b-06ce-463f-8bb2-4362d5de7857"
      },
      "execution_count": 26,
      "outputs": [
        {
          "output_type": "stream",
          "name": "stdout",
          "text": [
            "<class 'str'>\n",
            "o\n"
          ]
        }
      ]
    },
    {
      "cell_type": "code",
      "source": [
        "a = [1, 3, 5, 7]; print(type(a)); print(a[1]); print(a[-1])"
      ],
      "metadata": {
        "colab": {
          "base_uri": "https://localhost:8080/"
        },
        "id": "1hFkKBOyXOqF",
        "outputId": "9fd3565c-3789-4e71-824b-d6931850f746"
      },
      "execution_count": 18,
      "outputs": [
        {
          "output_type": "stream",
          "name": "stdout",
          "text": [
            "<class 'list'>\n",
            "3\n",
            "7\n"
          ]
        }
      ]
    },
    {
      "cell_type": "code",
      "source": [
        "a = [7, 'c', 5, [2,'k']]; print(type(a)); print(a[0]); print(a[1]); print(a[2]); print(a[3]); print(a[3][0]); print(a[3][1])"
      ],
      "metadata": {
        "colab": {
          "base_uri": "https://localhost:8080/"
        },
        "id": "QDk5YwYYXmiZ",
        "outputId": "76c1ab93-51e5-451a-a60b-1c02f1e971b8"
      },
      "execution_count": 29,
      "outputs": [
        {
          "output_type": "stream",
          "name": "stdout",
          "text": [
            "<class 'list'>\n",
            "7\n",
            "c\n",
            "5\n",
            "[2, 'k']\n",
            "2\n",
            "k\n"
          ]
        }
      ]
    },
    {
      "cell_type": "code",
      "source": [
        "print(a[:])"
      ],
      "metadata": {
        "colab": {
          "base_uri": "https://localhost:8080/"
        },
        "id": "wgMobUtaYaOu",
        "outputId": "8b45a7bd-c81a-4451-9de9-3f1ff9025cb0"
      },
      "execution_count": 30,
      "outputs": [
        {
          "output_type": "stream",
          "name": "stdout",
          "text": [
            "[7, 'c', 5, [2, 'k']]\n"
          ]
        }
      ]
    },
    {
      "cell_type": "code",
      "source": [
        "print(a[:3]); print(a[:1]); print(a[1:-1])"
      ],
      "metadata": {
        "colab": {
          "base_uri": "https://localhost:8080/"
        },
        "id": "R7cMyVieaDqA",
        "outputId": "31301f63-3365-49da-9543-012098ac0c65"
      },
      "execution_count": 33,
      "outputs": [
        {
          "output_type": "stream",
          "name": "stdout",
          "text": [
            "[7, 'c', 5]\n",
            "[7]\n",
            "['c', 5]\n"
          ]
        }
      ]
    },
    {
      "cell_type": "code",
      "source": [
        "a = 'pessiqw2e'; print(type(a)); print(a[2:5]); print(a[:])"
      ],
      "metadata": {
        "colab": {
          "base_uri": "https://localhost:8080/"
        },
        "id": "qk0jrJYqbqtd",
        "outputId": "0c3c05d8-0a85-4556-98c5-53e4205bc9f8"
      },
      "execution_count": 36,
      "outputs": [
        {
          "output_type": "stream",
          "name": "stdout",
          "text": [
            "<class 'str'>\n",
            "ssi\n",
            "pessiqw2e\n"
          ]
        }
      ]
    },
    {
      "cell_type": "code",
      "source": [
        "a = [1, 2, 3]"
      ],
      "metadata": {
        "id": "MseKB4C1d1C3"
      },
      "execution_count": 37,
      "outputs": []
    },
    {
      "cell_type": "code",
      "source": [
        "a[2] = 7; print(a)"
      ],
      "metadata": {
        "colab": {
          "base_uri": "https://localhost:8080/"
        },
        "id": "vxSyh8yQd77L",
        "outputId": "82035e10-2f7a-4017-90d8-29773e586044"
      },
      "execution_count": 38,
      "outputs": [
        {
          "output_type": "stream",
          "name": "stdout",
          "text": [
            "[1, 2, 7]\n"
          ]
        }
      ]
    },
    {
      "cell_type": "code",
      "source": [
        "a = (1, 2, 3); print(a[0] + a[2])"
      ],
      "metadata": {
        "colab": {
          "base_uri": "https://localhost:8080/"
        },
        "id": "kBVLh6fgeEHi",
        "outputId": "98635392-1eff-4115-83ea-fae75c0c0a91"
      },
      "execution_count": 40,
      "outputs": [
        {
          "output_type": "stream",
          "name": "stdout",
          "text": [
            "4\n"
          ]
        }
      ]
    },
    {
      "cell_type": "code",
      "source": [
        "a = {1: \"wallet\", \"b\": \"lantern\", \"c\": 2013}; print(a[1])"
      ],
      "metadata": {
        "colab": {
          "base_uri": "https://localhost:8080/"
        },
        "id": "U_T7aJPjeu9q",
        "outputId": "67b549ea-a46d-4e95-dd1e-f67f8d01d20f"
      },
      "execution_count": 53,
      "outputs": [
        {
          "output_type": "stream",
          "name": "stdout",
          "text": [
            "wallet\n"
          ]
        }
      ]
    },
    {
      "cell_type": "code",
      "source": [
        "print(a[\"c\"])"
      ],
      "metadata": {
        "colab": {
          "base_uri": "https://localhost:8080/"
        },
        "id": "xCxvb2DofgYO",
        "outputId": "70c81d12-0231-4aa7-e2f4-cc95e66b7724"
      },
      "execution_count": 54,
      "outputs": [
        {
          "output_type": "stream",
          "name": "stdout",
          "text": [
            "2013\n"
          ]
        }
      ]
    },
    {
      "cell_type": "code",
      "source": [
        "print(type(a))"
      ],
      "metadata": {
        "colab": {
          "base_uri": "https://localhost:8080/"
        },
        "id": "3Xi5nFJojvnX",
        "outputId": "d324cea1-ae5d-419a-94af-811d3af15cd0"
      },
      "execution_count": 55,
      "outputs": [
        {
          "output_type": "stream",
          "name": "stdout",
          "text": [
            "<class 'dict'>\n"
          ]
        }
      ]
    },
    {
      "cell_type": "code",
      "source": [
        "k = 'dbqfba'\n",
        "print(k[1])\n",
        "print(k[:])\n",
        "print(k[:3])\n",
        "k.upper()"
      ],
      "metadata": {
        "colab": {
          "base_uri": "https://localhost:8080/",
          "height": 89
        },
        "id": "Vf0xQi42ZKd_",
        "outputId": "c7768be9-330a-4d2b-8709-5f68b3fbd419"
      },
      "execution_count": 6,
      "outputs": [
        {
          "output_type": "stream",
          "name": "stdout",
          "text": [
            "b\n",
            "dbqfba\n",
            "dbq\n"
          ]
        },
        {
          "output_type": "execute_result",
          "data": {
            "text/plain": [
              "'DBQFBA'"
            ],
            "application/vnd.google.colaboratory.intrinsic+json": {
              "type": "string"
            }
          },
          "metadata": {},
          "execution_count": 6
        }
      ]
    },
    {
      "cell_type": "code",
      "source": [
        "t = [300, 1843, 123, 193]\n",
        "print(t[1])\n",
        "print(len(t))\n",
        "t[1] + t[3] + t[2]*2"
      ],
      "metadata": {
        "colab": {
          "base_uri": "https://localhost:8080/"
        },
        "id": "we4QzokwZmym",
        "outputId": "62cf0e94-95aa-4008-a6b6-1c28cc252bc7"
      },
      "execution_count": 5,
      "outputs": [
        {
          "output_type": "stream",
          "name": "stdout",
          "text": [
            "1843\n",
            "4\n"
          ]
        },
        {
          "output_type": "execute_result",
          "data": {
            "text/plain": [
              "2282"
            ]
          },
          "metadata": {},
          "execution_count": 5
        }
      ]
    },
    {
      "cell_type": "code",
      "source": [
        "r = ' This wallet is what my dad gave me 2 years ago.\\n'\n",
        "print(r)"
      ],
      "metadata": {
        "colab": {
          "base_uri": "https://localhost:8080/"
        },
        "id": "XY-e-oWJZmJo",
        "outputId": "9e153c69-cf6e-4479-c220-c1e95e307444"
      },
      "execution_count": 14,
      "outputs": [
        {
          "output_type": "stream",
          "name": "stdout",
          "text": [
            " This wallet is what my dad gave me 2 years ago.\n",
            "\n"
          ]
        }
      ]
    },
    {
      "cell_type": "code",
      "source": [
        "result = r.find('wallet')\n",
        "result"
      ],
      "metadata": {
        "colab": {
          "base_uri": "https://localhost:8080/"
        },
        "id": "ApH2WUoyaotw",
        "outputId": "2564783f-fa57-4c8a-bd6f-e24dcd9dd6a1"
      },
      "execution_count": 15,
      "outputs": [
        {
          "output_type": "execute_result",
          "data": {
            "text/plain": [
              "6"
            ]
          },
          "metadata": {},
          "execution_count": 15
        }
      ]
    },
    {
      "cell_type": "code",
      "source": [
        "result = r.find('2')\n",
        "print(result)"
      ],
      "metadata": {
        "colab": {
          "base_uri": "https://localhost:8080/"
        },
        "id": "t_5mmhJBaxzs",
        "outputId": "815837a3-07f3-4f84-a903-eb6f0253606b"
      },
      "execution_count": 16,
      "outputs": [
        {
          "output_type": "stream",
          "name": "stdout",
          "text": [
            "36\n"
          ]
        }
      ]
    },
    {
      "cell_type": "code",
      "source": [
        "r = r.strip()\n",
        "print(r)"
      ],
      "metadata": {
        "colab": {
          "base_uri": "https://localhost:8080/"
        },
        "id": "_2xI7ePZbGOV",
        "outputId": "4e982762-afd5-4ba7-bc2b-c184b7962fea"
      },
      "execution_count": 18,
      "outputs": [
        {
          "output_type": "stream",
          "name": "stdout",
          "text": [
            "This wallet is what my dad gave me 2 years ago.\n"
          ]
        }
      ]
    },
    {
      "cell_type": "code",
      "source": [
        "tokens = r.split(' ')\n",
        "print(tokens)"
      ],
      "metadata": {
        "colab": {
          "base_uri": "https://localhost:8080/"
        },
        "id": "3iTJzlUTbTuu",
        "outputId": "9f605ed3-11d8-48e7-e58d-427b17c6f79c"
      },
      "execution_count": 21,
      "outputs": [
        {
          "output_type": "stream",
          "name": "stdout",
          "text": [
            "['This', 'wallet', 'is', 'what', 'my', 'dad', 'gave', 'me', '2', 'years', 'ago.']\n"
          ]
        }
      ]
    },
    {
      "cell_type": "code",
      "source": [
        "r = ' '.join(tokens)\n",
        "print(r)"
      ],
      "metadata": {
        "colab": {
          "base_uri": "https://localhost:8080/"
        },
        "id": "FYbzDuXcbm7i",
        "outputId": "60a1a2ed-7992-4794-f94c-55bfcc3137b6"
      },
      "execution_count": 23,
      "outputs": [
        {
          "output_type": "stream",
          "name": "stdout",
          "text": [
            "This wallet is what my dad gave me 2 years ago.\n"
          ]
        }
      ]
    },
    {
      "cell_type": "code",
      "source": [
        "r = r.replace('2','3')\n",
        "print(r)\n",
        "r = r.replace('This', 'That')\n",
        "print(r)"
      ],
      "metadata": {
        "colab": {
          "base_uri": "https://localhost:8080/"
        },
        "id": "YgjxTD7bbsmm",
        "outputId": "45662a3e-11c0-4ad2-d2a7-90e2c463bd1d"
      },
      "execution_count": 33,
      "outputs": [
        {
          "output_type": "stream",
          "name": "stdout",
          "text": [
            "That wallet is what my dad gave me 3 years ago.\n",
            "That wallet is what my dad gave me 3 years ago.\n"
          ]
        }
      ]
    },
    {
      "cell_type": "code",
      "source": [
        "def add(a,b) :\n",
        "    return a+b\n",
        "def subtract(a,b) :\n",
        "    return a-b\n",
        "def multiply(a,b) :\n",
        "    return a*b\n",
        "def divide(a,b) :\n",
        "    return a/b"
      ],
      "metadata": {
        "id": "PALQX7Izc8cH"
      },
      "execution_count": 36,
      "outputs": []
    },
    {
      "cell_type": "code",
      "source": [
        "c = add(1,2); print(c)\n",
        "d = subtract(42321,313); print(d)\n",
        "e = multiply(13,31); print(e)\n",
        "f = divide(133,41); print(f)"
      ],
      "metadata": {
        "colab": {
          "base_uri": "https://localhost:8080/"
        },
        "id": "eiZWI8J-dUWB",
        "outputId": "43e03b42-c489-4bc9-aca0-a5d2d686c990"
      },
      "execution_count": 38,
      "outputs": [
        {
          "output_type": "stream",
          "name": "stdout",
          "text": [
            "3\n",
            "42008\n",
            "403\n",
            "3.2439024390243905\n"
          ]
        }
      ]
    },
    {
      "cell_type": "code",
      "source": [
        "a = [21, 133, 41, 123]\n",
        "for i in a:\n",
        "    print(i)"
      ],
      "metadata": {
        "colab": {
          "base_uri": "https://localhost:8080/"
        },
        "id": "IuQvCl8SeClS",
        "outputId": "0b93fa0f-d7fd-4c5f-f729-aea3381eada3"
      },
      "execution_count": 40,
      "outputs": [
        {
          "output_type": "stream",
          "name": "stdout",
          "text": [
            "21\n",
            "133\n",
            "41\n",
            "123\n"
          ]
        }
      ]
    },
    {
      "cell_type": "code",
      "source": [
        "a = [12, 123, 91, 13, 412]\n",
        "for i in range(5):\n",
        "    print(a[i])\n",
        "for i in range(len(a)):\n",
        "    print(a[i])"
      ],
      "metadata": {
        "colab": {
          "base_uri": "https://localhost:8080/"
        },
        "id": "rWFX9mg-elNb",
        "outputId": "c01d42a3-8a59-46dc-c45d-01baa81baad3"
      },
      "execution_count": 43,
      "outputs": [
        {
          "output_type": "stream",
          "name": "stdout",
          "text": [
            "12\n",
            "123\n",
            "91\n",
            "13\n",
            "412\n",
            "12\n",
            "123\n",
            "91\n",
            "13\n",
            "412\n"
          ]
        }
      ]
    },
    {
      "cell_type": "code",
      "source": [
        "a = ['airpods', 'macbook', 'ipad', 'iphone']\n",
        "for i in range(len(a)):\n",
        "    print(a[i])"
      ],
      "metadata": {
        "colab": {
          "base_uri": "https://localhost:8080/"
        },
        "id": "2cjIj7ixfPsd",
        "outputId": "91cddef7-aa5f-4bd9-eae0-30b041f19686"
      },
      "execution_count": 44,
      "outputs": [
        {
          "output_type": "stream",
          "name": "stdout",
          "text": [
            "airpods\n",
            "macbook\n",
            "ipad\n",
            "iphone\n"
          ]
        }
      ]
    },
    {
      "cell_type": "code",
      "source": [
        "a = 120\n",
        "if a == 120:\n",
        "    print(a)\n",
        "else:\n",
        "    print(a+6)"
      ],
      "metadata": {
        "colab": {
          "base_uri": "https://localhost:8080/"
        },
        "id": "xk1w_kQWfhDd",
        "outputId": "2728486c-65d6-47f9-e168-b525bd9d6e35"
      },
      "execution_count": 45,
      "outputs": [
        {
          "output_type": "stream",
          "name": "stdout",
          "text": [
            "120\n"
          ]
        }
      ]
    },
    {
      "cell_type": "code",
      "source": [
        "q = 391\n",
        "if q == 43:\n",
        "    print(q)\n",
        "else:\n",
        "    print(q+32)"
      ],
      "metadata": {
        "colab": {
          "base_uri": "https://localhost:8080/"
        },
        "id": "RVbN1h5YfrhR",
        "outputId": "6d2604fa-81a8-43b8-b1d6-231c383326c3"
      },
      "execution_count": 53,
      "outputs": [
        {
          "output_type": "stream",
          "name": "stdout",
          "text": [
            "423\n"
          ]
        }
      ]
    },
    {
      "cell_type": "code",
      "source": [
        "a = 23\n",
        "if a != 13:\n",
        "    print(a)"
      ],
      "metadata": {
        "colab": {
          "base_uri": "https://localhost:8080/"
        },
        "id": "c1rfBuDogSyM",
        "outputId": "10a746df-c693-41e9-8ca0-7dc372929a20"
      },
      "execution_count": 55,
      "outputs": [
        {
          "output_type": "stream",
          "name": "stdout",
          "text": [
            "23\n"
          ]
        }
      ]
    },
    {
      "cell_type": "code",
      "source": [
        "for i in range(1, 4):\n",
        "    for j in range(6, 7):\n",
        "        print(i*j)"
      ],
      "metadata": {
        "colab": {
          "base_uri": "https://localhost:8080/"
        },
        "id": "w7zpxfbEgd6v",
        "outputId": "200c2be6-79a1-4e8b-8b2e-b298d1e3495f"
      },
      "execution_count": 59,
      "outputs": [
        {
          "output_type": "stream",
          "name": "stdout",
          "text": [
            "6\n",
            "12\n",
            "18\n"
          ]
        }
      ]
    },
    {
      "cell_type": "code",
      "source": [
        "for i in range(1,4):\n",
        "    for j in range(2, 4):\n",
        "        if j >=3:\n",
        "            print(i*j)"
      ],
      "metadata": {
        "colab": {
          "base_uri": "https://localhost:8080/"
        },
        "id": "du74DskOhaXr",
        "outputId": "ecd54c9c-4265-4345-be36-031b3270a2db"
      },
      "execution_count": 60,
      "outputs": [
        {
          "output_type": "stream",
          "name": "stdout",
          "text": [
            "3\n",
            "6\n",
            "9\n"
          ]
        }
      ]
    },
    {
      "cell_type": "code",
      "source": [
        "a = [1, 2, 3, 4]\n",
        "b = [i for i in a if i >= 2]\n",
        "print(b)"
      ],
      "metadata": {
        "colab": {
          "base_uri": "https://localhost:8080/"
        },
        "id": "G5qc-4zUh6S1",
        "outputId": "eab14966-df7a-43d8-bd59-0d822f89b818"
      },
      "execution_count": 61,
      "outputs": [
        {
          "output_type": "stream",
          "name": "stdout",
          "text": [
            "[2, 3, 4]\n"
          ]
        }
      ]
    },
    {
      "cell_type": "code",
      "source": [
        "a = ['apple', 'pear', 'peach', 'cherry']\n",
        "b = [i for i in a if len(i) >= 5]\n",
        "print(b)"
      ],
      "metadata": {
        "colab": {
          "base_uri": "https://localhost:8080/"
        },
        "id": "Q-dRIzV9iMni",
        "outputId": "e4fa78c9-f7c7-454e-fb78-21ce1c9e35b1"
      },
      "execution_count": 62,
      "outputs": [
        {
          "output_type": "stream",
          "name": "stdout",
          "text": [
            "['apple', 'peach', 'cherry']\n"
          ]
        }
      ]
    },
    {
      "cell_type": "code",
      "source": [
        "a = ['apple', 'pear', 'peach', 'cherry']\n",
        "b = [1, 2, 3, 4]\n",
        "c = {a[i]:b[i] for i in range(4)}\n",
        "print(c)"
      ],
      "metadata": {
        "colab": {
          "base_uri": "https://localhost:8080/"
        },
        "id": "S1RreTAeibwu",
        "outputId": "e4d92ea2-3a99-4afe-dc5b-70a86c7de64f"
      },
      "execution_count": 63,
      "outputs": [
        {
          "output_type": "stream",
          "name": "stdout",
          "text": [
            "{'apple': 1, 'pear': 2, 'peach': 3, 'cherry': 4}\n"
          ]
        }
      ]
    },
    {
      "cell_type": "code",
      "source": [
        "import numpy\n",
        "numpy.random.randn(6)"
      ],
      "metadata": {
        "colab": {
          "base_uri": "https://localhost:8080/"
        },
        "id": "G281IHeYjFw5",
        "outputId": "1179d2d0-c7db-45ca-bb87-23cb83b032fb"
      },
      "execution_count": 68,
      "outputs": [
        {
          "output_type": "execute_result",
          "data": {
            "text/plain": [
              "array([-0.21819843,  0.04816505,  0.40305263,  1.20593861,  0.05692135,\n",
              "       -0.50912514])"
            ]
          },
          "metadata": {},
          "execution_count": 68
        }
      ]
    },
    {
      "cell_type": "code",
      "source": [
        "import numpy as np\n",
        "n= np.random.randn(100)\n",
        "print(n)"
      ],
      "metadata": {
        "colab": {
          "base_uri": "https://localhost:8080/"
        },
        "id": "zbJMjzaejt7W",
        "outputId": "6a869c43-851b-43ed-f641-3483dd25bd28"
      },
      "execution_count": 69,
      "outputs": [
        {
          "output_type": "stream",
          "name": "stdout",
          "text": [
            "[ 3.69633325e-04  2.34129970e+00 -9.28312857e-01  5.47372494e-01\n",
            "  1.78532747e+00 -1.39660756e+00 -8.59946044e-02  9.10137282e-01\n",
            "  3.58814783e-01  6.30317424e-01  3.29834978e-01  6.78545753e-01\n",
            " -4.21693667e-01  1.85702676e+00  7.46195089e-01 -1.54917713e+00\n",
            "  4.70586939e-01  1.46021256e+00 -3.30787219e-01 -2.10080095e-01\n",
            "  1.67563051e-01  8.97225228e-01 -1.65409008e+00 -1.61611493e-02\n",
            "  4.48612251e-01  1.64714239e+00  8.94559712e-01 -8.11459785e-01\n",
            " -2.74983099e-02  9.91235891e-02  3.09359797e-01 -1.28815677e+00\n",
            " -7.24862324e-01 -1.03617767e-01  1.20341382e-02 -3.23626229e-01\n",
            " -8.14436554e-01  5.97857356e-01 -1.45756011e+00 -8.53250095e-01\n",
            "  1.36703858e+00 -3.87979920e-01  5.02611760e-01 -1.25731805e+00\n",
            " -6.86614332e-01 -1.98819322e+00 -2.67496064e+00  7.30860524e-01\n",
            " -1.04587195e+00 -1.07919453e+00  1.26105868e+00 -1.13785028e+00\n",
            "  3.92691722e-01  9.20531729e-01 -2.91702364e-01  1.08000268e+00\n",
            " -9.20834277e-01  4.02988233e-01 -3.07967702e-01 -1.88347067e+00\n",
            " -2.70769665e-01 -5.55941560e-02  2.40016266e+00  2.39222169e+00\n",
            " -1.10291304e+00  1.06100510e-01  4.30932472e-03  1.57166135e+00\n",
            " -5.27437810e-01  7.89595902e-01 -4.45637583e-02 -4.20588916e-01\n",
            "  3.31883325e-01 -8.69268802e-01  3.81134035e-01 -1.32373362e+00\n",
            " -5.03959531e-01  5.68697704e-01 -8.36068936e-01 -4.26240665e-01\n",
            " -1.44114989e+00 -1.10709929e+00 -8.25500390e-01 -4.21196987e-01\n",
            "  8.00400168e-01  1.12502742e+00 -1.48583445e+00 -1.54941255e+00\n",
            " -2.20593169e+00 -8.27826701e-01  5.96740385e-01  4.50517918e-02\n",
            "  6.76988991e-02 -1.01535188e+00 -7.21846832e-01 -1.39189857e-01\n",
            " -1.67487556e+00 -8.64102552e-01  1.01535723e+00 -1.37320062e-01]\n"
          ]
        }
      ]
    },
    {
      "cell_type": "code",
      "source": [
        "import matplotlib\n",
        "matplotlib.pyplot.hist(n)"
      ],
      "metadata": {
        "colab": {
          "base_uri": "https://localhost:8080/",
          "height": 354
        },
        "id": "wV6aYf4Pjt1p",
        "outputId": "64360fcf-aa65-4244-94b9-eede6ae9f6c6"
      },
      "execution_count": 74,
      "outputs": [
        {
          "output_type": "execute_result",
          "data": {
            "text/plain": [
              "(array([ 2.,  3., 10., 19., 14., 19., 16.,  9.,  5.,  3.]),\n",
              " array([-2.67496064, -2.16744831, -1.65993598, -1.15242365, -0.64491132,\n",
              "        -0.13739899,  0.37011334,  0.87762567,  1.385138  ,  1.89265033,\n",
              "         2.40016266]),\n",
              " <a list of 10 Patch objects>)"
            ]
          },
          "metadata": {},
          "execution_count": 74
        },
        {
          "output_type": "display_data",
          "data": {
            "text/plain": [
              "<Figure size 432x288 with 1 Axes>"
            ],
            "image/png": "[encoded data removed]"
          },
          "metadata": {
            "needs_background": "light"
          }
        }
      ]
    },
    {
      "cell_type": "code",
      "source": [
        "import matplotlib.pyplot as plt\n",
        "matplotlib.pyplot.hist(n)"
      ],
      "metadata": {
        "colab": {
          "base_uri": "https://localhost:8080/",
          "height": 354
        },
        "id": "bBHoyOi_kXks",
        "outputId": "683c3718-1bf3-406a-c0b9-44b501f732cc"
      },
      "execution_count": 75,
      "outputs": [
        {
          "output_type": "execute_result",
          "data": {
            "text/plain": [
              "(array([ 2.,  3., 10., 19., 14., 19., 16.,  9.,  5.,  3.]),\n",
              " array([-2.67496064, -2.16744831, -1.65993598, -1.15242365, -0.64491132,\n",
              "        -0.13739899,  0.37011334,  0.87762567,  1.385138  ,  1.89265033,\n",
              "         2.40016266]),\n",
              " <a list of 10 Patch objects>)"
            ]
          },
          "metadata": {},
          "execution_count": 75
        },
        {
          "output_type": "display_data",
          "data": {
            "text/plain": [
              "<Figure size 432x288 with 1 Axes>"
            ],
            "image/png": "[encoded data removed]"
          },
          "metadata": {
            "needs_background": "light"
          }
        }
      ]
    },
    {
      "cell_type": "code",
      "source": [
        "import matplotlib.pyplot as plt\n",
        "plt.hist(n)"
      ],
      "metadata": {
        "colab": {
          "base_uri": "https://localhost:8080/",
          "height": 354
        },
        "id": "pLCXrj69khjk",
        "outputId": "e03035e5-7a63-4523-f150-35ae024b2915"
      },
      "execution_count": 76,
      "outputs": [
        {
          "output_type": "execute_result",
          "data": {
            "text/plain": [
              "(array([ 2.,  3., 10., 19., 14., 19., 16.,  9.,  5.,  3.]),\n",
              " array([-2.67496064, -2.16744831, -1.65993598, -1.15242365, -0.64491132,\n",
              "        -0.13739899,  0.37011334,  0.87762567,  1.385138  ,  1.89265033,\n",
              "         2.40016266]),\n",
              " <a list of 10 Patch objects>)"
            ]
          },
          "metadata": {},
          "execution_count": 76
        },
        {
          "output_type": "display_data",
          "data": {
            "text/plain": [
              "<Figure size 432x288 with 1 Axes>"
            ],
            "image/png": "[encoded data removed]"
          },
          "metadata": {
            "needs_background": "light"
          }
        }
      ]
    },
    {
      "cell_type": "code",
      "source": [
        "from matplotlib import pyplot\n",
        "pyplot.hist(n)"
      ],
      "metadata": {
        "colab": {
          "base_uri": "https://localhost:8080/",
          "height": 354
        },
        "id": "2iZoeZ-Ikun8",
        "outputId": "7edc0c07-76f2-4cfc-a6f7-677e95d9b775"
      },
      "execution_count": 77,
      "outputs": [
        {
          "output_type": "execute_result",
          "data": {
            "text/plain": [
              "(array([ 2.,  3., 10., 19., 14., 19., 16.,  9.,  5.,  3.]),\n",
              " array([-2.67496064, -2.16744831, -1.65993598, -1.15242365, -0.64491132,\n",
              "        -0.13739899,  0.37011334,  0.87762567,  1.385138  ,  1.89265033,\n",
              "         2.40016266]),\n",
              " <a list of 10 Patch objects>)"
            ]
          },
          "metadata": {},
          "execution_count": 77
        },
        {
          "output_type": "display_data",
          "data": {
            "text/plain": [
              "<Figure size 432x288 with 1 Axes>"
            ],
            "image/png": "[encoded data removed]"
          },
          "metadata": {
            "needs_background": "light"
          }
        }
      ]
    },
    {
      "cell_type": "code",
      "source": [
        "from matplotlib.pyplot import hist\n",
        "hist(n)"
      ],
      "metadata": {
        "colab": {
          "base_uri": "https://localhost:8080/",
          "height": 354
        },
        "id": "X-2NVvcGk4qh",
        "outputId": "cf3453e4-b5b5-4746-90ea-3a9c6b69ec2b"
      },
      "execution_count": 78,
      "outputs": [
        {
          "output_type": "execute_result",
          "data": {
            "text/plain": [
              "(array([ 2.,  3., 10., 19., 14., 19., 16.,  9.,  5.,  3.]),\n",
              " array([-2.67496064, -2.16744831, -1.65993598, -1.15242365, -0.64491132,\n",
              "        -0.13739899,  0.37011334,  0.87762567,  1.385138  ,  1.89265033,\n",
              "         2.40016266]),\n",
              " <a list of 10 Patch objects>)"
            ]
          },
          "metadata": {},
          "execution_count": 78
        },
        {
          "output_type": "display_data",
          "data": {
            "text/plain": [
              "<Figure size 432x288 with 1 Axes>"
            ],
            "image/png": "[encoded data removed]"
          },
          "metadata": {
            "needs_background": "light"
          }
        }
      ]
    },
    {
      "cell_type": "code",
      "source": [
        "x = np.array([1,2,3])\n",
        "print(x)\n",
        "print(type(x))\n",
        "print(x.shape)"
      ],
      "metadata": {
        "colab": {
          "base_uri": "https://localhost:8080/"
        },
        "id": "n-1ksXmflRGB",
        "outputId": "ae1b0f14-d553-4bdb-e590-f955d0b8ccfa"
      },
      "execution_count": 80,
      "outputs": [
        {
          "output_type": "stream",
          "name": "stdout",
          "text": [
            "[1 2 3]\n",
            "<class 'numpy.ndarray'>\n",
            "(3,)\n"
          ]
        }
      ]
    }
  ]
}