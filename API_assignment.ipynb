{
  "nbformat": 4,
  "nbformat_minor": 0,
  "metadata": {
    "colab": {
      "name": "API 과제.ipynb",
      "provenance": [],
      "collapsed_sections": [],
      "authorship_tag": "ABX9TyOTHf+5pCWnQ+l+K2FZWuvw",
      "include_colab_link": true
    },
    "kernelspec": {
      "name": "python3",
      "display_name": "Python 3"
    },
    "language_info": {
      "name": "python"
    }
  },
  "cells": [
    {
      "cell_type": "markdown",
      "metadata": {
        "id": "view-in-github",
        "colab_type": "text"
      },
      "source": [
        "<a href=\"https://colab.research.google.com/github/yexeh/class2022Spring/blob/main/API_assignment.ipynb\" target=\"_parent\"><img src=\"https://colab.research.google.com/assets/colab-badge.svg\" alt=\"Open In Colab\"/></a>"
      ]
    },
    {
      "cell_type": "code",
      "execution_count": null,
      "metadata": {
        "id": "kEXHbcI8JYy2"
      },
      "outputs": [],
      "source": [
        "!pip install gradio\n",
        "import gradio as gr\n",
        "import requests\n",
        "import pandas as pd"
      ]
    },
    {
      "cell_type": "code",
      "source": [
        "URL = ('http://apis.data.go.kr/B553766/smt-schedule/'\n",
        "       'schedule?'\n",
        "       'serviceKey=sBDDbJv7DKtHNT%2FYmiqZAGLgobklu9HF4w%2BJHiUVxEVEunMXCIl6WWbnip3q76BaIHBs20HMHouZgdoEmkdKFw%3D%3D'\n",
        "       '&numOfRows=500'\n",
        "       '&pageNo=1'\n",
        "       '&stationCode=2640'\n",
        "       '&week=DAY'\n",
        "       '&trainDirection=UP'\n",
        "       )\n",
        "response = requests.get(URL)"
      ],
      "metadata": {
        "id": "maiNWoyFOMxa"
      },
      "execution_count": null,
      "outputs": []
    },
    {
      "cell_type": "code",
      "source": [
        "r = response.json()"
      ],
      "metadata": {
        "id": "MAiVpzUTWBvV"
      },
      "execution_count": null,
      "outputs": []
    },
    {
      "cell_type": "code",
      "source": [
        "data = r['data']\n",
        "\n",
        "station_name = [item['station_name'] for item in data]\n",
        "arrive_time = [item['train_arrtime'] for item in data]\n",
        "destination = [item['train_destination'] for item in data]\n",
        "\n",
        "station_name = pd.Series(station_name)\n",
        "arrive_time = pd.to_numeric(arrive_time)\n",
        "destination = pd.Series(destination)\n",
        "\n",
        "df = pd.DataFrame({ 'station_name':station_name, 'arrive_time':arrive_time, 'destination':destination })\n",
        "\n",
        "df2 = df[ (df.arrive_time > 120000) & (df.arrive_time < 130000) ]\n"
      ],
      "metadata": {
        "id": "36XxBezCYcSx"
      },
      "execution_count": null,
      "outputs": []
    },
    {
      "cell_type": "code",
      "source": [
        "df2"
      ],
      "metadata": {
        "id": "0kdmq24ReyWM"
      },
      "execution_count": null,
      "outputs": []
    },
    {
      "cell_type": "code",
      "source": [
        "def train_time(week, traindirection, time) :\n",
        "\n",
        "  URL = ('http://apis.data.go.kr/B553766/smt-schedule/'\n",
        "         'schedule?'\n",
        "         'serviceKey=sBDDbJv7DKtHNT%2FYmiqZAGLgobklu9HF4w%2BJHiUVxEVEunMXCIl6WWbnip3q76BaIHBs20HMHouZgdoEmkdKFw%3D%3D'\n",
        "         '&numOfRows=500'\n",
        "         '&pageNo=1'\n",
        "         '&stationCode=2640'\n",
        "         '&week=' + week +\n",
        "         '&trainDirection=' + traindirection \n",
        "         )\n",
        "  \n",
        "  response = requests.get(URL)\n",
        "  r = response.json()\n",
        "\n",
        "  data = r['data']\n",
        "\n",
        "  station_name = [item['station_name'] for item in data]\n",
        "  arrive_time = [item['train_arrtime'] for item in data]\n",
        "  destination = [item['train_destination'] for item in data]\n",
        "\n",
        "  station_name = pd.Series(station_name)\n",
        "  arrive_time = pd.to_numeric(arrive_time)\n",
        "  destination = pd.Series(destination)\n",
        "\n",
        "  df = pd.DataFrame({ 'station_name':station_name, 'arrive_time':arrive_time, 'destination':destination })\n",
        "\n",
        "  df2 = df[ ( df.arrive_time >= time*100 ) & ( df.arrive_time < time*100+10000 ) ]\n",
        "\n",
        "  return df2"
      ],
      "metadata": {
        "id": "gn3iX10GgEql"
      },
      "execution_count": null,
      "outputs": []
    },
    {
      "cell_type": "code",
      "source": [
        "iface = gr.Interface(train_time, [gr.inputs.Dropdown(['DAY', 'SAT', 'HOL']), gr.inputs.Dropdown(['UP', 'DOWN']), gr.inputs.Number(label='time')], outputs = ['dataframe'])\n",
        "iface.launch(debug = True)"
      ],
      "metadata": {
        "id": "Snn_hma8kvrj"
      },
      "execution_count": null,
      "outputs": []
    }
  ]
}