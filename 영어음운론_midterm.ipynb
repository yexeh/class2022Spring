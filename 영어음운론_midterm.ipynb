{
  "nbformat": 4,
  "nbformat_minor": 0,
  "metadata": {
    "colab": {
      "provenance": [],
      "collapsed_sections": [
        "QRfC0aHd_MhJ"
      ],
      "include_colab_link": true
    },
    "kernelspec": {
      "name": "python3",
      "display_name": "Python 3"
    },
    "language_info": {
      "name": "python"
    }
  },
  "cells": [
    {
      "cell_type": "markdown",
      "metadata": {
        "id": "view-in-github",
        "colab_type": "text"
      },
      "source": [
        "<a href=\"https://colab.research.google.com/github/yexeh/class2022Spring/blob/main/%EC%98%81%EC%96%B4%EC%9D%8C%EC%9A%B4%EB%A1%A0_midterm.ipynb\" target=\"_parent\"><img src=\"https://colab.research.google.com/assets/colab-badge.svg\" alt=\"Open In Colab\"/></a>"
      ]
    },
    {
      "cell_type": "markdown",
      "source": [
        "프로그래밍- 컴퓨터한테 일을 시키는 것\n",
        "Motherboard : 컴퓨터의 가장 핵심적인 부분. 프로그램을 작동 시킬 때 필요한 것 -cpu, ram. . .\n",
        "프로그래밍 과정- data를 주고 그 데이터를 처리하여 명령 수행\n",
        "cpu: 사람의 뇌에 비유. 용량이 작아 데이터를 전부 저장할 수 없음\n",
        "ram: 기억장치. 데이터를 쌓아둠\n",
        "컴퓨터는 이진법으로만 작동(0,1) cpu가 ram에서 명령어를 가져가서 사용\n",
        "직접 python 돌리려면\n",
        "python 설치 (python: 명령을 내리기 위한 프로그램을 작성할 때 사용하는 언어 중 1)\n",
        "python interpreter가 생김 - 명령을 작성할 때 01로 작성하기 어려움 사람이 이해할 수 언어로 명령 작성 (코드) > python interpreter가 코드를 01(기계어)로 번역해서 컴퓨터가 프로그램을 돌릴 수 있게 함"
      ],
      "metadata": {
        "id": "8yhj6UAVyaKq"
      }
    },
    {
      "cell_type": "markdown",
      "source": [
        "# Basic"
      ],
      "metadata": {
        "id": "JvQfahrL4KS8"
      }
    },
    {
      "cell_type": "markdown",
      "source": [
        "## print\n",
        "* displays a value (= data) to the console\n",
        "\n",
        "```\n",
        "print(x)\n",
        "```"
      ],
      "metadata": {
        "id": "Ocvj1AMD4QoQ"
      }
    },
    {
      "cell_type": "code",
      "execution_count": null,
      "metadata": {
        "colab": {
          "base_uri": "https://localhost:8080/"
        },
        "id": "YZVkbBSo4IEP",
        "outputId": "0c6d8ebf-6905-4e95-ed4c-a3593c3799bc"
      },
      "outputs": [
        {
          "output_type": "stream",
          "name": "stdout",
          "text": [
            "Hi!\n"
          ]
        }
      ],
      "source": [
        "# click the play button on the left to run the code\n",
        "\n",
        "print(\"Hi!\")"
      ]
    },
    {
      "cell_type": "markdown",
      "source": [
        "코딩의 핵심- 함수 input 데이터를 넣어서 python을 통해 화면에 출력하도록 함\n",
        "준 특정 데이터를 출력하게 하는 함수\n",
        "사람이 쓸 수 있는 명령어를 입력 > python이 보이지않는 곳에서 기계어로 번역 > 컴퓨터가 출력\n",
        "google colaboratory : google 컴퓨터를 사용하는 것\n",
        "따로 python 설치 필요 X\n",
        "python의 장점\n",
        "명령어 이해 간단, 직관적 e.g. C++\n",
        "여러 기능 존재, 여러 곳에 활용 가능 e.g. 데이터분석, 음성 spectrogram 추출 및 분석에 사용, 3D 그래프 시각화, AI 모델을 구현, 훈련 및 사용, 웹사이트 데모 만들기 (huggingface-AI 모델 공유 커뮤니티), 애니메이션 구현, 게임 개발 등\n",
        "많은 사용자 -> 다양한 기능 추가적으로 제공 가능, 도움 받기 쉬움 e.g. stack overflow : 개발자 커뮤니티 사이트"
      ],
      "metadata": {
        "id": "YAK_yXQxyriM"
      }
    },
    {
      "cell_type": "markdown",
      "source": [
        "print 함수. string(텍스트) 삽입할 때 \", ' 모두 사용 가능 실행 단축기 : ctrl+ enter\n",
        "* input을 variable로 사용\n",
        "* 변수 : python의 가장 기초 단위\n",
        "* 변수에 넣을때는 = 기호 사용"
      ],
      "metadata": {
        "id": "mK5SooVHywXd"
      }
    },
    {
      "cell_type": "markdown",
      "source": [
        "## variable\n",
        "* a named container that holds a value\n",
        "* a reference to a value that is stored in the RAM (= memory)"
      ],
      "metadata": {
        "id": "1CV1ycri411n"
      }
    },
    {
      "cell_type": "code",
      "source": [
        "a = \"Hi!\"  # variable a\n",
        "print(a)"
      ],
      "metadata": {
        "colab": {
          "base_uri": "https://localhost:8080/"
        },
        "id": "z00ozBB25dua",
        "outputId": "c3d245c5-87ee-445b-d867-1722737626b3"
      },
      "execution_count": null,
      "outputs": [
        {
          "output_type": "stream",
          "name": "stdout",
          "text": [
            "Hi!\n"
          ]
        }
      ]
    },
    {
      "cell_type": "code",
      "source": [
        "# variable reassignment\n",
        "\n",
        "a = \"Bye!\"  # the value of a is changed from \"Hi!\" to \"Bye\"\n",
        "print(a) # 변수 값은 쉽게 바꿀 수 있음 + 변수의 이름 마음대로 지정 가능(약간의 제약은 존재하지만 영어알파벳이면 가능 )"
      ],
      "metadata": {
        "colab": {
          "base_uri": "https://localhost:8080/"
        },
        "id": "HYevhTFG5ufC",
        "outputId": "cadc6aa2-3982-4927-da90-660ad11fa862"
      },
      "execution_count": null,
      "outputs": [
        {
          "output_type": "stream",
          "name": "stdout",
          "text": [
            "Bye!\n"
          ]
        }
      ]
    },
    {
      "cell_type": "markdown",
      "source": [
        "## del\n",
        "* deletes a variable or element\n",
        "\n",
        "```\n",
        "del x\n",
        "```"
      ],
      "metadata": {
        "id": "eLN-Q7Cg6dm9"
      }
    },
    {
      "cell_type": "code",
      "source": [
        "del a  # a is deleted\n",
        "print(a)  # this raises an error since there is no a"
      ],
      "metadata": {
        "id": "-tvffT9W6byO",
        "colab": {
          "base_uri": "https://localhost:8080/",
          "height": 198
        },
        "outputId": "530e8f10-7c72-4e09-e4a3-1de3df05cdf5"
      },
      "execution_count": null,
      "outputs": [
        {
          "output_type": "error",
          "ename": "NameError",
          "evalue": "ignored",
          "traceback": [
            "\u001b[0;31m---------------------------------------------------------------------------\u001b[0m",
            "\u001b[0;31mNameError\u001b[0m                                 Traceback (most recent call last)",
            "\u001b[0;32m<ipython-input-4-049f03a6405a>\u001b[0m in \u001b[0;36m<cell line: 2>\u001b[0;34m()\u001b[0m\n\u001b[1;32m      1\u001b[0m \u001b[0;32mdel\u001b[0m \u001b[0ma\u001b[0m  \u001b[0;31m# a is deleted\u001b[0m\u001b[0;34m\u001b[0m\u001b[0;34m\u001b[0m\u001b[0m\n\u001b[0;32m----> 2\u001b[0;31m \u001b[0mprint\u001b[0m\u001b[0;34m(\u001b[0m\u001b[0ma\u001b[0m\u001b[0;34m)\u001b[0m  \u001b[0;31m# this raises an error since there is no a\u001b[0m\u001b[0;34m\u001b[0m\u001b[0;34m\u001b[0m\u001b[0m\n\u001b[0m",
            "\u001b[0;31mNameError\u001b[0m: name 'a' is not defined"
          ]
        }
      ]
    },
    {
      "cell_type": "markdown",
      "source": [
        "## type\n",
        "* data in Python have specific types"
      ],
      "metadata": {
        "id": "WSRmWNLj5lkV"
      }
    },
    {
      "cell_type": "code",
      "source": [
        "a = 1\n",
        "b = \"Hi!\"\n",
        "c = [1, 2, 3]\n",
        "d = (1, 2, 3)\n",
        "e = {\"a\": 1, \"b\": 2, \"c\": 3}"
      ],
      "metadata": {
        "id": "ggI5KK745rt_"
      },
      "execution_count": null,
      "outputs": []
    },
    {
      "cell_type": "markdown",
      "source": [
        "* returns the data type\n",
        "\n",
        "```\n",
        "type(x)\n",
        "```"
      ],
      "metadata": {
        "id": "kd3Qit2y6CdR"
      }
    },
    {
      "cell_type": "code",
      "source": [
        "print(type(a))\n",
        "print(type(b))\n",
        "print(type(c))\n",
        "print(type(d))\n",
        "print(type(e))"
      ],
      "metadata": {
        "colab": {
          "base_uri": "https://localhost:8080/"
        },
        "id": "lwINkEHK6QPx",
        "outputId": "7e3f6bed-f516-4423-8637-0c9724f5b324"
      },
      "execution_count": null,
      "outputs": [
        {
          "output_type": "stream",
          "name": "stdout",
          "text": [
            "<class 'int'>\n",
            "<class 'str'>\n",
            "<class 'list'>\n",
            "<class 'tuple'>\n",
            "<class 'dict'>\n"
          ]
        }
      ]
    },
    {
      "cell_type": "markdown",
      "source": [
        "# Data type: Number"
      ],
      "metadata": {
        "id": "LONx1R4W6t58"
      }
    },
    {
      "cell_type": "code",
      "source": [
        "# integer\n",
        "\n",
        "a = 1\n",
        "b = 0  # this is an int\n",
        "c = -1\n",
        "\n",
        "print(type(a))\n",
        "print(type(b))\n",
        "print(type(c))\n",
        "\n",
        "# 정수형 variable = int"
      ],
      "metadata": {
        "id": "yO0nDq1R6x_K",
        "outputId": "a95845aa-7fe3-4167-9ec9-f963becabb68",
        "colab": {
          "base_uri": "https://localhost:8080/"
        }
      },
      "execution_count": null,
      "outputs": [
        {
          "output_type": "stream",
          "name": "stdout",
          "text": [
            "<class 'int'>\n",
            "<class 'int'>\n",
            "<class 'int'>\n"
          ]
        }
      ]
    },
    {
      "cell_type": "code",
      "source": [
        "# floating-point number\n",
        "\n",
        "a = 3.14159\n",
        "b = 0.0  # this is a float\n",
        "c = -3.14\n",
        "\n",
        "print(type(a))\n",
        "print(type(b))\n",
        "print(type(c))\n",
        "\n",
        "# 소수점이 붙은 정수가 아닌 숫자들 : float"
      ],
      "metadata": {
        "id": "CIE7y-iB7BF9",
        "outputId": "0174c7ef-31a2-450a-88e1-37d9bdc5dfb0",
        "colab": {
          "base_uri": "https://localhost:8080/"
        }
      },
      "execution_count": null,
      "outputs": [
        {
          "output_type": "stream",
          "name": "stdout",
          "text": [
            "<class 'float'>\n",
            "<class 'float'>\n",
            "<class 'float'>\n"
          ]
        }
      ]
    },
    {
      "cell_type": "markdown",
      "source": [
        "## arithmetic operator\n",
        "* operator\n",
        "  * a symbol or keyword that performs specific operations\n",
        "  * it is essentially a function\n",
        "\n",
        "<br/>\n",
        "\n",
        "* `+` addition\n",
        "* `-` deletion\n",
        "* `*` multiplication\n",
        "* `/` division"
      ],
      "metadata": {
        "id": "swYyGBc87FTd"
      }
    },
    {
      "cell_type": "code",
      "source": [
        "a = 5\n",
        "b = 3\n",
        "\n",
        "print(a + b)\n",
        "print(a - b)\n",
        "print(a * b)\n",
        "print(a / b)  # division returns a float"
      ],
      "metadata": {
        "colab": {
          "base_uri": "https://localhost:8080/"
        },
        "id": "b-gSC_au8xEn",
        "outputId": "75110a4c-5946-446b-c6d5-8ea4f1669f09"
      },
      "execution_count": null,
      "outputs": [
        {
          "output_type": "stream",
          "name": "stdout",
          "text": [
            "8\n",
            "2\n",
            "15\n",
            "1.6666666666666667\n"
          ]
        }
      ]
    },
    {
      "cell_type": "markdown",
      "source": [
        "* `//` quotient\n",
        "* `%` modulus"
      ],
      "metadata": {
        "id": "Ri0q2kd68_h0"
      }
    },
    {
      "cell_type": "code",
      "source": [
        "print(a // b) # quotient\n",
        "# 나눴을 때 몫\n",
        "print(a % b) # modulus\n",
        "# 나누고 난 뒤 나머지"
      ],
      "metadata": {
        "colab": {
          "base_uri": "https://localhost:8080/"
        },
        "id": "BZOponWv9oii",
        "outputId": "e259ee39-5573-4f8b-963b-8e7d0e9af6b3"
      },
      "execution_count": null,
      "outputs": [
        {
          "output_type": "stream",
          "name": "stdout",
          "text": [
            "1\n",
            "2\n"
          ]
        }
      ]
    },
    {
      "cell_type": "markdown",
      "source": [
        "* `**` exponentiation"
      ],
      "metadata": {
        "id": "Td1J3Sjb9rGW"
      }
    },
    {
      "cell_type": "code",
      "source": [
        "print(a ** b)  # 5 * 5 * 5 # a^b\n",
        "# a의 b승"
      ],
      "metadata": {
        "colab": {
          "base_uri": "https://localhost:8080/"
        },
        "id": "NotXZJN19v_c",
        "outputId": "a3179314-08eb-4e7b-8c5d-b37d86b84639"
      },
      "execution_count": null,
      "outputs": [
        {
          "output_type": "stream",
          "name": "stdout",
          "text": [
            "125\n"
          ]
        }
      ]
    },
    {
      "cell_type": "markdown",
      "source": [
        "## comparison operator\n",
        "* compares two values\n",
        "* returns a boolean (`True` or `False`)\n",
        "\n",
        "<br/>\n",
        "\n",
        "* `>` greater than\n",
        "* `<` less than\n",
        "* `>=` greater than or equal to\n",
        "* `<=` less than or equal to\n",
        "* `==` equal to\n",
        "* `!=` not equal to"
      ],
      "metadata": {
        "id": "1HAF8a9t94sp"
      }
    },
    {
      "cell_type": "code",
      "source": [
        "print(a > b)   # 5 > 3\n",
        "print(a < b)   # 5 < 3\n",
        "print(a >= b)  # 5 >= 3\n",
        "print(a <= b)  # 5 <= 3\n",
        "print(a == b)  # 5 == 3\n",
        "print(a != b)  # 5 != 3"
      ],
      "metadata": {
        "colab": {
          "base_uri": "https://localhost:8080/"
        },
        "id": "CLepVAwb-iyU",
        "outputId": "3572d335-c9d7-4ec9-cd78-e56acad70b00"
      },
      "execution_count": null,
      "outputs": [
        {
          "output_type": "stream",
          "name": "stdout",
          "text": [
            "True\n",
            "False\n",
            "True\n",
            "False\n",
            "False\n",
            "True\n"
          ]
        }
      ]
    },
    {
      "cell_type": "markdown",
      "source": [
        "# Data type: Sequence\n",
        "* an ordered collection of elements\n",
        "* can access elements by their position (= index)\n",
        "\n",
        "sequence 데이터 유형 a=\"Hello!\" 도 sequence, list도 sequence임\n",
        "sequence : 작은 데이터들을 순차적으로 나열한 것"
      ],
      "metadata": {
        "id": "uSUJMPpp-6TM"
      }
    },
    {
      "cell_type": "markdown",
      "source": [
        "## string\n",
        "* a sequence of characters\n",
        "* used to represent text"
      ],
      "metadata": {
        "id": "QRfC0aHd_MhJ"
      }
    },
    {
      "cell_type": "code",
      "source": [
        "a = \"Hi!\"\n",
        "b = 'Hi!'  # same as a\n",
        "c = \"\"  # empty string"
      ],
      "metadata": {
        "id": "BYn2UAGt-9wf"
      },
      "execution_count": null,
      "outputs": []
    },
    {
      "cell_type": "markdown",
      "source": [
        "### string operators\n",
        "\n",
        "* `+` concatenate"
      ],
      "metadata": {
        "id": "VQ7j0tEj_ve_"
      }
    },
    {
      "cell_type": "code",
      "source": [
        "a = \"py\"\n",
        "b = \"thon\"\n",
        "\n",
        "print(a + b)"
      ],
      "metadata": {
        "colab": {
          "base_uri": "https://localhost:8080/"
        },
        "id": "22NW94xP_yjI",
        "outputId": "58951be9-bfe6-47aa-fb76-fdbc8b8f2373"
      },
      "execution_count": null,
      "outputs": [
        {
          "output_type": "stream",
          "name": "stdout",
          "text": [
            "python\n"
          ]
        }
      ]
    },
    {
      "cell_type": "markdown",
      "source": [
        "* `*` repeat"
      ],
      "metadata": {
        "id": "4r4ZBtpr_11n"
      }
    },
    {
      "cell_type": "code",
      "source": [
        "print(a * 3)  # a is repeated 3 times"
      ],
      "metadata": {
        "colab": {
          "base_uri": "https://localhost:8080/"
        },
        "id": "35bdgOKl_1Om",
        "outputId": "c601e5aa-50fe-499f-8a23-08a2921a340f"
      },
      "execution_count": null,
      "outputs": [
        {
          "output_type": "stream",
          "name": "stdout",
          "text": [
            "pypypy\n"
          ]
        }
      ]
    },
    {
      "cell_type": "markdown",
      "source": [
        "### comparison operators\n",
        "* `==` equal to\n",
        "* `!=` not equal to"
      ],
      "metadata": {
        "id": "BhPzLpX_ATsj"
      }
    },
    {
      "cell_type": "code",
      "source": [
        "a = \"Hi!\"\n",
        "b = 'Hi!'\n",
        "\n",
        "print(a == b)  # each character should match\n",
        "print(a != b)"
      ],
      "metadata": {
        "colab": {
          "base_uri": "https://localhost:8080/"
        },
        "id": "Pbk9Dbo1AayK",
        "outputId": "64d0f793-b6f4-49e8-e448-b5727c074031"
      },
      "execution_count": null,
      "outputs": [
        {
          "output_type": "stream",
          "name": "stdout",
          "text": [
            "True\n",
            "False\n"
          ]
        }
      ]
    },
    {
      "cell_type": "markdown",
      "source": [
        "### len\n",
        "* returns the number of elements (= characters)\n",
        "\n",
        "```\n",
        "len(x)\n",
        "```"
      ],
      "metadata": {
        "id": "XarMTBawA0aX"
      }
    },
    {
      "cell_type": "code",
      "source": [
        "print(len(a))  # a has 3 characters # 변수의 길이 출력"
      ],
      "metadata": {
        "colab": {
          "base_uri": "https://localhost:8080/"
        },
        "id": "rwipInRyBA_a",
        "outputId": "581ab7ba-8428-434f-d95a-65c646693e5f"
      },
      "execution_count": null,
      "outputs": [
        {
          "output_type": "stream",
          "name": "stdout",
          "text": [
            "3\n"
          ]
        }
      ]
    },
    {
      "cell_type": "markdown",
      "source": [
        "### .replace\n",
        "* method\n",
        "  * a function that is associated with an object\n",
        "  * performs actions related to that object\n",
        "  * replacing a substring a to b in x x.replace(\"a\", \"b\")\n",
        "\n",
        "<br />\n",
        "\n",
        "* replaces a substring `a` to `b` in `x`\n",
        "\n",
        "```\n",
        "x.replace(\"a\", \"b\")\n",
        "```\n"
      ],
      "metadata": {
        "id": "WAXMuoerBGiE"
      }
    },
    {
      "cell_type": "code",
      "source": [
        "a = \"Hello world!\"\n",
        "\n",
        "a = a.replace(\"world\", \"python\")\n",
        "print(a)\n",
        "\n",
        "# .뒤에 오는 함수 = method. str이 쓸 수 있는 특별한 함수. 숫자에서는 사용 불가능(int,float...)\n",
        "# replace함수 variable.replace(\"바꾸고싶은 부분\", \"바꾸는 내용\")"
      ],
      "metadata": {
        "colab": {
          "base_uri": "https://localhost:8080/"
        },
        "id": "wiZJE8ATCEvf",
        "outputId": "1fabcec9-8f1f-402c-a32a-269afe5d0c74"
      },
      "execution_count": null,
      "outputs": [
        {
          "output_type": "stream",
          "name": "stdout",
          "text": [
            "Hello python!\n"
          ]
        }
      ]
    },
    {
      "cell_type": "markdown",
      "source": [
        "### indexing\n",
        "* each element's position in a sequence is specified by a number (= index)\n",
        "* an index starts from 0\n",
        "\n",
        "<br />\n",
        "\n",
        "|0|1|2|3|4|5|\n",
        "|-|-|-|-|-|-|\n",
        "|p|y|t|h|o|n|\n",
        "\n",
        "<br />\n",
        "\n",
        "* accesses the `i`th element\n",
        "\n",
        "```\n",
        "x[i]\n",
        "```"
      ],
      "metadata": {
        "id": "-ITNQ7wYCNMZ"
      }
    },
    {
      "cell_type": "code",
      "source": [
        "a = \"python\"\n",
        "\n",
        "print(a[0])\n",
        "print(a[1])\n",
        "print(a[2])\n",
        "print(a[3])\n",
        "print(a[4])\n",
        "print(a[5])\n",
        "\n",
        "# sequence에선 각 element마다 번호가 배정되어있음\n",
        "# index함수 variable[자리번호] - 번호의 element를 출력.\n",
        "# element의 번호는 순서대로 0 1 2 3 4 5"
      ],
      "metadata": {
        "colab": {
          "base_uri": "https://localhost:8080/"
        },
        "id": "m2mZqXMcCHZG",
        "outputId": "5a4d16f4-0e13-4972-f832-9fa744f4aa80"
      },
      "execution_count": null,
      "outputs": [
        {
          "output_type": "stream",
          "name": "stdout",
          "text": [
            "p\n",
            "y\n",
            "t\n",
            "h\n",
            "o\n",
            "n\n"
          ]
        }
      ]
    },
    {
      "cell_type": "code",
      "source": [
        "a = \"Hello pytho, hello world!\"\n",
        "print(a[len(a)-1])\n",
        "# 마지막 element를 뽑고 싶을 때 len과 index사용"
      ],
      "metadata": {
        "id": "hC-EwE_K6J6h",
        "outputId": "a877f33f-f2a4-4aab-a54c-33a388991273",
        "colab": {
          "base_uri": "https://localhost:8080/"
        }
      },
      "execution_count": null,
      "outputs": [
        {
          "output_type": "stream",
          "name": "stdout",
          "text": [
            "!\n"
          ]
        }
      ]
    },
    {
      "cell_type": "markdown",
      "source": [
        "* negative indexing\n",
        "\n",
        "<br />\n",
        "\n",
        "|-6|-5|-4|-3|-2|-1|\n",
        "|-|-|-|-|-|-|\n",
        "|p|y|t|h|o|n|"
      ],
      "metadata": {
        "id": "C0Qkp5UHDEUM"
      }
    },
    {
      "cell_type": "code",
      "source": [
        "print(a[-6])\n",
        "print(a[-5])\n",
        "print(a[-4])\n",
        "print(a[-3])\n",
        "print(a[-2])\n",
        "print(a[-1])"
      ],
      "metadata": {
        "colab": {
          "base_uri": "https://localhost:8080/"
        },
        "id": "CGXbsaNEC-9N",
        "outputId": "29fa3974-3f84-42d0-98ef-2c64db624aa8"
      },
      "execution_count": null,
      "outputs": [
        {
          "output_type": "stream",
          "name": "stdout",
          "text": [
            "p\n",
            "y\n",
            "t\n",
            "h\n",
            "o\n",
            "n\n"
          ]
        }
      ]
    },
    {
      "cell_type": "markdown",
      "source": [
        "### slicing\n",
        "* accesses multiple elements\n",
        "* from `i`th to `j-1`th\n",
        "\n",
        "```\n",
        "x[i:j]\n",
        "```\n",
        "\n",
        "<br />\n",
        "\n",
        "|0|1|2|3|4|5|\n",
        "|-|-|-|-|-|-|\n",
        "|p|y|t|h|o|n|"
      ],
      "metadata": {
        "id": "CIfYBgsfDctk"
      }
    },
    {
      "cell_type": "code",
      "source": [
        "# 원소를 여러개 뽑을 때\n",
        "a = \"python\"\n",
        "print(a[2:4])  # 2nd ~ 3rd\n",
        "# slicing: 끝에 있는 숫자는 포함을 안시킴 a[2:4]면 2, 3번 element만"
      ],
      "metadata": {
        "colab": {
          "base_uri": "https://localhost:8080/"
        },
        "id": "bA-CgAUJDvlW",
        "outputId": "ee0258ae-e9e9-4cda-aaff-84f2a14932d9"
      },
      "execution_count": null,
      "outputs": [
        {
          "output_type": "stream",
          "name": "stdout",
          "text": [
            "th\n"
          ]
        }
      ]
    },
    {
      "cell_type": "code",
      "source": [
        "print(a[2:5])"
      ],
      "metadata": {
        "id": "NY7w-eiQ6nTD",
        "outputId": "866b0567-baf6-425b-aaf8-3daffb546c0c",
        "colab": {
          "base_uri": "https://localhost:8080/"
        }
      },
      "execution_count": null,
      "outputs": [
        {
          "output_type": "stream",
          "name": "stdout",
          "text": [
            "tho\n"
          ]
        }
      ]
    },
    {
      "cell_type": "code",
      "source": [
        "# when starting the slice from the beginning,\n",
        "# the starting index is omitted\n",
        "# 0은 맨 앞에 왔을 때 생략 가능 [0:2],[:2] 모두 사용 가능함\n",
        "\n",
        "print(a[:2])  # 0th ~ 1st"
      ],
      "metadata": {
        "colab": {
          "base_uri": "https://localhost:8080/"
        },
        "id": "yziCI_1gEMho",
        "outputId": "50ada20c-ddf7-43f3-a15e-0d8c56e19759"
      },
      "execution_count": null,
      "outputs": [
        {
          "output_type": "stream",
          "name": "stdout",
          "text": [
            "py\n"
          ]
        }
      ]
    },
    {
      "cell_type": "code",
      "source": [
        "# when the slice is from the specified position\n",
        "# to the end of the sequence,\n",
        "# the ending index is omitted\n",
        "\n",
        "print(a[-2:])  # same as a[4:], 4th ~ last\n",
        "# 맨 끝 숫자도 맨 뒤에 왔을 때 생략 가능 [4:5], [4:] 모두 사용 가능"
      ],
      "metadata": {
        "colab": {
          "base_uri": "https://localhost:8080/"
        },
        "id": "Z2fradDmEjXT",
        "outputId": "477d5bd7-5893-4e8b-dcb5-26ec811df019"
      },
      "execution_count": null,
      "outputs": [
        {
          "output_type": "stream",
          "name": "stdout",
          "text": [
            "on\n"
          ]
        }
      ]
    },
    {
      "cell_type": "markdown",
      "source": [
        "## list\n",
        "* a sequence of elements of any data type\n",
        "* [ ]로 묶어서 여러 data를 한 변수에 넣기 가능 (list)"
      ],
      "metadata": {
        "id": "ZUcRYoZoFNmd"
      }
    },
    {
      "cell_type": "code",
      "source": [
        "a = \"Hello!\"\n",
        "b = 123\n",
        "c =[123, 4, \"Hello!\"]\n",
        "d = {\"a\" : 1} # dict\n",
        "print(type(a))\n",
        "print(type(b))\n",
        "print(type(c))\n",
        "print(type(d))"
      ],
      "metadata": {
        "id": "qvxiCFmf7Idv",
        "outputId": "75b27acd-00fa-406b-9d0b-347907b818e3",
        "colab": {
          "base_uri": "https://localhost:8080/"
        }
      },
      "execution_count": null,
      "outputs": [
        {
          "output_type": "stream",
          "name": "stdout",
          "text": [
            "<class 'str'>\n",
            "<class 'int'>\n",
            "<class 'list'>\n",
            "<class 'dict'>\n"
          ]
        }
      ]
    },
    {
      "cell_type": "code",
      "source": [
        "# list\n",
        "# 어떤 데이터 유형이든 안에 들어올 수 있음\n",
        "# 일반적으로는 같은 데이터 유형끼리 모아둠\n",
        "# list도 비워두기 가능. 나중에 함수를 사용해 쌓아놓기도 가능\n",
        "# 크기를 보여줄 때 안에 있는 원소의 개수를 보여줌\n",
        "\n",
        "\n",
        "a = [1, 2, 3]\n",
        "b = [\"red\", \"green\", \"blue\"]\n",
        "c = [10, \"Hi!\", False, [1, 2]]\n",
        "d = [] # empty list\n",
        "\n",
        "print(type(a))\n",
        "print(type(b))\n",
        "print(type(c))\n",
        "print(type(d))"
      ],
      "metadata": {
        "id": "ehB7kAKpFXft",
        "outputId": "fa8452bc-8154-4274-9da7-95e2eebf1bc1",
        "colab": {
          "base_uri": "https://localhost:8080/"
        }
      },
      "execution_count": null,
      "outputs": [
        {
          "output_type": "stream",
          "name": "stdout",
          "text": [
            "<class 'list'>\n",
            "<class 'list'>\n",
            "<class 'list'>\n",
            "<class 'list'>\n"
          ]
        }
      ]
    },
    {
      "cell_type": "markdown",
      "source": [
        "# del\n",
        "변수 지우기 del variable"
      ],
      "metadata": {
        "id": "P_Ny-rPU7xmE"
      }
    },
    {
      "cell_type": "code",
      "source": [
        "del d"
      ],
      "metadata": {
        "id": "cIeSuCGf72hv"
      },
      "execution_count": null,
      "outputs": []
    },
    {
      "cell_type": "markdown",
      "source": [
        "### list operators\n",
        "* `+` concatenate"
      ],
      "metadata": {
        "id": "jYlBS1hvFr8r"
      }
    },
    {
      "cell_type": "code",
      "source": [
        "# list에 추가하는 법 2가지 1. + 2. variable.append (새로운 element)\n",
        "a = [1, 2]\n",
        "b = [3, 4]\n",
        "\n",
        "print(a + b)\n",
        "\n",
        "# a = a + b\n",
        "a += b\n",
        "print(a)"
      ],
      "metadata": {
        "colab": {
          "base_uri": "https://localhost:8080/"
        },
        "id": "RP9VajenFxjE",
        "outputId": "c4b811fb-35bc-4bec-ddec-d75169f9b9fe"
      },
      "execution_count": null,
      "outputs": [
        {
          "output_type": "stream",
          "name": "stdout",
          "text": [
            "[1, 2, 3, 4]\n",
            "[1, 2, 3, 4]\n"
          ]
        }
      ]
    },
    {
      "cell_type": "markdown",
      "source": [
        "* `*` repeat"
      ],
      "metadata": {
        "id": "OcbWSOakGKA8"
      }
    },
    {
      "cell_type": "code",
      "source": [
        "print(a * 3)"
      ],
      "metadata": {
        "colab": {
          "base_uri": "https://localhost:8080/"
        },
        "id": "hu36hNFyGLqZ",
        "outputId": "8e7bce4d-e8bd-443a-a3a7-5a2fdc573577"
      },
      "execution_count": null,
      "outputs": [
        {
          "output_type": "stream",
          "name": "stdout",
          "text": [
            "[1, 2, 1, 2, 1, 2]\n"
          ]
        }
      ]
    },
    {
      "cell_type": "markdown",
      "source": [
        "### len\n",
        "* returns the number of elements\n",
        "\n",
        "```\n",
        "len(x)\n",
        "```"
      ],
      "metadata": {
        "id": "A-0E6oN7GZZn"
      }
    },
    {
      "cell_type": "code",
      "source": [
        "print(len(a))"
      ],
      "metadata": {
        "colab": {
          "base_uri": "https://localhost:8080/"
        },
        "id": "S54Bd2rfGcRg",
        "outputId": "709e034c-acc5-4517-9813-869d5bbfa43d"
      },
      "execution_count": null,
      "outputs": [
        {
          "output_type": "stream",
          "name": "stdout",
          "text": [
            "2\n"
          ]
        }
      ]
    },
    {
      "cell_type": "markdown",
      "source": [
        "### indexing\n",
        "* accesses the `i`th element\n",
        "\n",
        "```\n",
        "x[i]\n",
        "```"
      ],
      "metadata": {
        "id": "DsSiYijdGnbO"
      }
    },
    {
      "cell_type": "code",
      "source": [
        "a = [1, 2, 3, -1]\n",
        "\n",
        "print(a[0])\n",
        "print(a[1])\n",
        "print(a[2])\n",
        "print(a[3])"
      ],
      "metadata": {
        "colab": {
          "base_uri": "https://localhost:8080/"
        },
        "id": "uW6GTFJzGqSc",
        "outputId": "5dcb5147-e54a-487b-9e09-ce1ed248be4e"
      },
      "execution_count": null,
      "outputs": [
        {
          "output_type": "stream",
          "name": "stdout",
          "text": [
            "1\n",
            "2\n",
            "3\n",
            "-1\n"
          ]
        }
      ]
    },
    {
      "cell_type": "code",
      "source": [
        "# negative indexing\n",
        "\n",
        "print(a[-4])\n",
        "print(a[-3])\n",
        "print(a[-2])\n",
        "print(a[-1])"
      ],
      "metadata": {
        "colab": {
          "base_uri": "https://localhost:8080/"
        },
        "id": "hVt_oJwHGwyz",
        "outputId": "63d2b94a-e877-43b9-fb21-d0ebcfcc4afc"
      },
      "execution_count": null,
      "outputs": [
        {
          "output_type": "stream",
          "name": "stdout",
          "text": [
            "1\n",
            "2\n",
            "3\n",
            "-1\n"
          ]
        }
      ]
    },
    {
      "cell_type": "markdown",
      "source": [
        "### slicing\n",
        "* accesses multiple elements\n",
        "* from `i`th to `j-1`th\n",
        "\n",
        "```\n",
        "x[i:j]\n",
        "```"
      ],
      "metadata": {
        "id": "AzjLTAJVG4RF"
      }
    },
    {
      "cell_type": "code",
      "source": [
        "print(a[:2])\n",
        "print(a[1:3])\n",
        "print(a[-2:])  # same as a[2:]"
      ],
      "metadata": {
        "colab": {
          "base_uri": "https://localhost:8080/"
        },
        "id": "tq1gH1bkG62J",
        "outputId": "5f0deb91-3e23-4422-8285-959a338dd1ab"
      },
      "execution_count": null,
      "outputs": [
        {
          "output_type": "stream",
          "name": "stdout",
          "text": [
            "[1, 2]\n",
            "[2, 3]\n",
            "[3, -1]\n"
          ]
        }
      ]
    },
    {
      "cell_type": "markdown",
      "source": [
        "### modifying\n",
        "* changes the `i`th value to `a`\n",
        "\n",
        "```\n",
        "x[i] = a\n",
        "```"
      ],
      "metadata": {
        "id": "meXMkR4hG2je"
      }
    },
    {
      "cell_type": "code",
      "source": [
        "a[-1] = 4  # the last element is changed from -1 to 4\n",
        "print(a)"
      ],
      "metadata": {
        "colab": {
          "base_uri": "https://localhost:8080/"
        },
        "id": "ccDXxDPnHknM",
        "outputId": "bc101558-f3d1-4fd4-9e99-dced4e171371"
      },
      "execution_count": null,
      "outputs": [
        {
          "output_type": "stream",
          "name": "stdout",
          "text": [
            "[1, 2, 3, 4]\n"
          ]
        }
      ]
    },
    {
      "cell_type": "markdown",
      "source": [
        "### x.append\n",
        "* adds a single element to the end of a list\n",
        "\n",
        "```\n",
        "x.append(a)\n",
        "```"
      ],
      "metadata": {
        "id": "2aEY5ZvdHxbd"
      }
    },
    {
      "cell_type": "code",
      "source": [
        "a.append(5)  # no explicit assignment is needed!\n",
        "print(a)"
      ],
      "metadata": {
        "colab": {
          "base_uri": "https://localhost:8080/"
        },
        "id": "RTCk3QiPH1gZ",
        "outputId": "6877546c-c8d9-4869-f19b-4e7306b5faad"
      },
      "execution_count": null,
      "outputs": [
        {
          "output_type": "stream",
          "name": "stdout",
          "text": [
            "[1, 2, 3, 4, 5]\n"
          ]
        }
      ]
    },
    {
      "cell_type": "code",
      "source": [
        "# what if you want to add multiple elements?\n",
        "\n",
        "a.append([6, 7]) # append로 넣으면 그대로 들어감\n",
        "print(a)  # common mistake: a list as a single element is added!"
      ],
      "metadata": {
        "colab": {
          "base_uri": "https://localhost:8080/"
        },
        "id": "12gmbCPsIFLX",
        "outputId": "776c4c79-e531-4c07-bc3a-2d58e244cc94"
      },
      "execution_count": null,
      "outputs": [
        {
          "output_type": "stream",
          "name": "stdout",
          "text": [
            "[1, 2, 3, 4, 5, [6, 7]]\n"
          ]
        }
      ]
    },
    {
      "cell_type": "markdown",
      "source": [
        "# x.extend\n",
        "\n",
        "adds multiple elements to the end of a list\n",
        "\n",
        "list 사용 없이 한 번에 넣는 법"
      ],
      "metadata": {
        "id": "v1KzchFu-W3t"
      }
    },
    {
      "cell_type": "code",
      "source": [
        "a = [0, 1]\n",
        "a.extend([2, 3])  # same as a = a + [2, 3]  # multiple elements are added as expected this time!\n",
        "print(a)"
      ],
      "metadata": {
        "id": "Z_WfHg-I-WGF",
        "outputId": "ac156c5a-efd3-4051-8a4e-7ccb522eacd5",
        "colab": {
          "base_uri": "https://localhost:8080/"
        }
      },
      "execution_count": null,
      "outputs": [
        {
          "output_type": "stream",
          "name": "stdout",
          "text": [
            "[0, 1, 2, 3]\n"
          ]
        }
      ]
    },
    {
      "cell_type": "markdown",
      "source": [
        "# 삭제하는 법\n",
        "1. del\n",
        "2. pop"
      ],
      "metadata": {
        "id": "k9DdpQdp-3bi"
      }
    },
    {
      "cell_type": "markdown",
      "source": [
        "# del"
      ],
      "metadata": {
        "id": "lfQfy9YY_zlI"
      }
    },
    {
      "cell_type": "code",
      "source": [
        "a = [0, 1]\n",
        "del a[1]\n",
        "print(a)"
      ],
      "metadata": {
        "id": "zRID5xwi_1Ak",
        "outputId": "e1e3bc75-cb82-4a7e-db92-e015ecdc8663",
        "colab": {
          "base_uri": "https://localhost:8080/"
        }
      },
      "execution_count": null,
      "outputs": [
        {
          "output_type": "stream",
          "name": "stdout",
          "text": [
            "[0]\n"
          ]
        }
      ]
    },
    {
      "cell_type": "markdown",
      "source": [
        "### .pop\n",
        "* deletes and returns the last element\n",
        "\n",
        "```\n",
        "y = x.pop()\n",
        "```"
      ],
      "metadata": {
        "id": "-2qiqwgNISYp"
      }
    },
    {
      "cell_type": "code",
      "source": [
        "b = a.pop()  # b is assigned with the last element of a # pop 사용하면 마지막 element가 출력되고 list에서 빠짐\n",
        "\n",
        "print(a)\n",
        "print(b)  # the last element is a list [6, 7]"
      ],
      "metadata": {
        "colab": {
          "base_uri": "https://localhost:8080/"
        },
        "id": "0nR-aUBfIf_r",
        "outputId": "f067ca64-0370-4ec4-8a98-bcd470a4a9c4"
      },
      "execution_count": null,
      "outputs": [
        {
          "output_type": "stream",
          "name": "stdout",
          "text": [
            "[1, 2, 3, 4, 5]\n",
            "[6, 7]\n"
          ]
        }
      ]
    },
    {
      "cell_type": "markdown",
      "source": [
        "## tuple\n",
        "* a list where each element cannot be modified, deleted, or added"
      ],
      "metadata": {
        "id": "Q4uSHtkdJZKT"
      }
    },
    {
      "cell_type": "code",
      "source": [
        "# same as a list most of the time\n",
        "\n",
        "a = (1, 2, 3, -1)\n",
        "\n",
        "print(len(a))  # calculating length\n",
        "print(a[0])    # indexing\n",
        "print(a[1:3])  # slicing"
      ],
      "metadata": {
        "colab": {
          "base_uri": "https://localhost:8080/"
        },
        "id": "ddMaxV5NJjyU",
        "outputId": "20668805-b15a-4db2-ef6d-8df89aaee0d6"
      },
      "execution_count": null,
      "outputs": [
        {
          "output_type": "stream",
          "name": "stdout",
          "text": [
            "4\n",
            "1\n",
            "(2, 3)\n"
          ]
        }
      ]
    },
    {
      "cell_type": "code",
      "source": [
        "# not allowed: returns an error\n",
        "# list와 tuple의 가장 큰 차이: tuple은 고정된 값. element를 빼거나 수정하는 것이 안됨 -> TypeError\n",
        "\n",
        "a[-1] = 4         # modifying\n",
        "a.append(5)       # appending\n",
        "a.extend([6, 7])  # extending\n",
        "a.pop()           # removing #.pop은 list 속성함수, tuple은 값을 수정할 수 없는 고정된 함수"
      ],
      "metadata": {
        "colab": {
          "base_uri": "https://localhost:8080/",
          "height": 251
        },
        "id": "5WJUA_80J5o3",
        "outputId": "87229858-3a18-4828-e0d6-572c77df71e9"
      },
      "execution_count": null,
      "outputs": [
        {
          "output_type": "error",
          "ename": "TypeError",
          "evalue": "ignored",
          "traceback": [
            "\u001b[0;31m---------------------------------------------------------------------------\u001b[0m",
            "\u001b[0;31mTypeError\u001b[0m                                 Traceback (most recent call last)",
            "\u001b[0;32m<ipython-input-37-830d106e809f>\u001b[0m in \u001b[0;36m<cell line: 3>\u001b[0;34m()\u001b[0m\n\u001b[1;32m      1\u001b[0m \u001b[0;31m# not allowed: returns an error\u001b[0m\u001b[0;34m\u001b[0m\u001b[0;34m\u001b[0m\u001b[0m\n\u001b[1;32m      2\u001b[0m \u001b[0;34m\u001b[0m\u001b[0m\n\u001b[0;32m----> 3\u001b[0;31m \u001b[0ma\u001b[0m\u001b[0;34m[\u001b[0m\u001b[0;34m-\u001b[0m\u001b[0;36m1\u001b[0m\u001b[0;34m]\u001b[0m \u001b[0;34m=\u001b[0m \u001b[0;36m4\u001b[0m         \u001b[0;31m# modifying\u001b[0m\u001b[0;34m\u001b[0m\u001b[0;34m\u001b[0m\u001b[0m\n\u001b[0m\u001b[1;32m      4\u001b[0m \u001b[0ma\u001b[0m\u001b[0;34m.\u001b[0m\u001b[0mappend\u001b[0m\u001b[0;34m(\u001b[0m\u001b[0;36m5\u001b[0m\u001b[0;34m)\u001b[0m       \u001b[0;31m# appending\u001b[0m\u001b[0;34m\u001b[0m\u001b[0;34m\u001b[0m\u001b[0m\n\u001b[1;32m      5\u001b[0m \u001b[0ma\u001b[0m\u001b[0;34m.\u001b[0m\u001b[0mextend\u001b[0m\u001b[0;34m(\u001b[0m\u001b[0;34m[\u001b[0m\u001b[0;36m6\u001b[0m\u001b[0;34m,\u001b[0m \u001b[0;36m7\u001b[0m\u001b[0;34m]\u001b[0m\u001b[0;34m)\u001b[0m  \u001b[0;31m# extending\u001b[0m\u001b[0;34m\u001b[0m\u001b[0;34m\u001b[0m\u001b[0m\n",
            "\u001b[0;31mTypeError\u001b[0m: 'tuple' object does not support item assignment"
          ]
        }
      ]
    },
    {
      "cell_type": "markdown",
      "source": [
        "# Data type: Mapping\n",
        "* a collection of key-value pairs\n",
        "* can access elements by their associated keys"
      ],
      "metadata": {
        "id": "f7zrljNpKXqq"
      }
    },
    {
      "cell_type": "markdown",
      "source": [
        "## dictionary"
      ],
      "metadata": {
        "id": "swbSisAgKo7Z"
      }
    },
    {
      "cell_type": "code",
      "source": [
        "# keys: \"name\", \"age\", \"city\"\n",
        "# values: \"Alice\", 23, \"Seoul\"\n",
        "\n",
        "a = {\"name\": \"Alice\", \"age\": 23, \"city\": \"Seoul\"}\n",
        "\n",
        "# sequence는 아님. 자릿값 상관 X 별명으로만 사용"
      ],
      "metadata": {
        "id": "lldKM-teKrWC"
      },
      "execution_count": null,
      "outputs": []
    },
    {
      "cell_type": "code",
      "source": [
        "print(a[0])\n",
        "# dict는 key 값을 이용해서 뽑음. 숫자로 뽑으면 error"
      ],
      "metadata": {
        "id": "zw7H0_fcA2f5",
        "outputId": "9e0b7851-9856-48db-fc84-e27d7f26d040",
        "colab": {
          "base_uri": "https://localhost:8080/",
          "height": 191
        }
      },
      "execution_count": null,
      "outputs": [
        {
          "output_type": "error",
          "ename": "KeyError",
          "evalue": "ignored",
          "traceback": [
            "\u001b[0;31m---------------------------------------------------------------------------\u001b[0m",
            "\u001b[0;31mKeyError\u001b[0m                                  Traceback (most recent call last)",
            "\u001b[0;32m<ipython-input-19-f11f61a7ed46>\u001b[0m in \u001b[0;36m<cell line: 1>\u001b[0;34m()\u001b[0m\n\u001b[0;32m----> 1\u001b[0;31m \u001b[0mprint\u001b[0m\u001b[0;34m(\u001b[0m\u001b[0ma\u001b[0m\u001b[0;34m[\u001b[0m\u001b[0;36m0\u001b[0m\u001b[0;34m]\u001b[0m\u001b[0;34m)\u001b[0m\u001b[0;34m\u001b[0m\u001b[0;34m\u001b[0m\u001b[0m\n\u001b[0m\u001b[1;32m      2\u001b[0m \u001b[0;31m# dict는 key 값을 이용해서 뽑음. 숫자로 뽑으면 error\u001b[0m\u001b[0;34m\u001b[0m\u001b[0;34m\u001b[0m\u001b[0m\n",
            "\u001b[0;31mKeyError\u001b[0m: 0"
          ]
        }
      ]
    },
    {
      "cell_type": "markdown",
      "source": [
        "### accessing\n",
        "* accesses the value associated with key `a`\n",
        "\n",
        "```\n",
        "x[a]\n",
        "```"
      ],
      "metadata": {
        "id": "T7lWu4IzLPO0"
      }
    },
    {
      "cell_type": "code",
      "source": [
        "print(a[\"name\"])\n",
        "print(a[\"age\"])\n",
        "print(a[\"city\"])\n",
        "\n",
        "# 사람이 사용하기에 더 직관적인 방식"
      ],
      "metadata": {
        "id": "pNeRXwUeK7sQ",
        "colab": {
          "base_uri": "https://localhost:8080/"
        },
        "outputId": "beaca65a-769c-4d84-88fa-b19603752ce0"
      },
      "execution_count": null,
      "outputs": [
        {
          "output_type": "stream",
          "name": "stdout",
          "text": [
            "Alice\n",
            "23\n",
            "Seoul\n"
          ]
        }
      ]
    },
    {
      "cell_type": "markdown",
      "source": [
        "### modifying\n",
        "* changes the value to `b`\n",
        "\n",
        "```\n",
        "x[a] = b\n",
        "```"
      ],
      "metadata": {
        "id": "b4ifuBrBL_1I"
      }
    },
    {
      "cell_type": "code",
      "source": [
        "a[\"name\"] = \"John\"  # the value is changed from \"Alice\" to \"John\"\n",
        "print(a[\"name\"])\n",
        "\n",
        "#dict도 index를 이용헤서 내용 수정, 추가 가능"
      ],
      "metadata": {
        "id": "QMb13PkSMK5m",
        "colab": {
          "base_uri": "https://localhost:8080/"
        },
        "outputId": "fa504939-746a-4df1-d0e7-f06235d300d2"
      },
      "execution_count": null,
      "outputs": [
        {
          "output_type": "stream",
          "name": "stdout",
          "text": [
            "John\n"
          ]
        }
      ]
    },
    {
      "cell_type": "markdown",
      "source": [
        "### deleting\n",
        "* deletes a key-value pair using `del`\n",
        "\n",
        "```\n",
        "del x[a]\n",
        "```"
      ],
      "metadata": {
        "id": "ax9EkDLsLczn"
      }
    },
    {
      "cell_type": "code",
      "source": [
        "del a[\"city\"]  # \"city\": \"Seoul\" is deleted\n",
        "print(a)"
      ],
      "metadata": {
        "id": "wiaJMtGkKxIn",
        "colab": {
          "base_uri": "https://localhost:8080/"
        },
        "outputId": "1ed17b8e-f2a0-4c5a-a4e3-c89da5173ee6"
      },
      "execution_count": null,
      "outputs": [
        {
          "output_type": "stream",
          "name": "stdout",
          "text": [
            "{'name': 'John', 'age': 23}\n"
          ]
        }
      ]
    },
    {
      "cell_type": "markdown",
      "source": [
        "### adding\n",
        "* adds a new key-value pair\n",
        "\n",
        "```\n",
        "x[a] = b\n",
        "```"
      ],
      "metadata": {
        "id": "0af43OwBL5Z1"
      }
    },
    {
      "cell_type": "code",
      "source": [
        "# 데이터 추가\n",
        "a[\"is_student\"] = True  # \"is_student\": True is added\n",
        "print(a) # list와 다르게 추가\n",
        "\n",
        "# list에서는\n",
        "# b = [1, 2, 3]\n",
        "# b[3] = 3 -> error"
      ],
      "metadata": {
        "id": "PTMLrIm5MW_6",
        "colab": {
          "base_uri": "https://localhost:8080/"
        },
        "outputId": "07fe35d4-e854-4939-809f-4b8168aba421"
      },
      "execution_count": null,
      "outputs": [
        {
          "output_type": "stream",
          "name": "stdout",
          "text": [
            "{'name': 'John', 'age': 23, 'is_student': True}\n"
          ]
        }
      ]
    },
    {
      "cell_type": "markdown",
      "source": [
        "# Data type: Boolean"
      ],
      "metadata": {
        "id": "YU-IijgAMkR1"
      }
    },
    {
      "cell_type": "code",
      "source": [
        "a = True\n",
        "b = False\n",
        "\n",
        "# 참, 거짓을 알려주는 숫자, 텍스트도 아닌 bool"
      ],
      "metadata": {
        "id": "DTAy1CHuMpoG"
      },
      "execution_count": null,
      "outputs": []
    },
    {
      "cell_type": "markdown",
      "source": [
        "## comparison operation\n",
        "* boolean is returned as an output of comparison operations"
      ],
      "metadata": {
        "id": "dd610HyXM1ck"
      }
    },
    {
      "cell_type": "code",
      "source": [
        "a = 1\n",
        "b = 2\n",
        "print(a < b)"
      ],
      "metadata": {
        "id": "RTLRBHzVCW6Q",
        "outputId": "cf0acc9e-cdc3-40c6-bcd8-c2cb382a2fca",
        "colab": {
          "base_uri": "https://localhost:8080/"
        }
      },
      "execution_count": null,
      "outputs": [
        {
          "output_type": "stream",
          "name": "stdout",
          "text": [
            "True\n"
          ]
        }
      ]
    },
    {
      "cell_type": "code",
      "source": [
        "print(5 > 3)                # True\n",
        "print(\"Hi!\" == \"Bye!\")      # False\n",
        "print([1, 2, 3] != [1, 2])  # True"
      ],
      "metadata": {
        "id": "P8T1NnK5Mr1P",
        "colab": {
          "base_uri": "https://localhost:8080/"
        },
        "outputId": "f418b400-82dd-4cc1-bdcf-52fa15aee2cf"
      },
      "execution_count": null,
      "outputs": [
        {
          "output_type": "stream",
          "name": "stdout",
          "text": [
            "True\n",
            "False\n",
            "True\n"
          ]
        }
      ]
    },
    {
      "cell_type": "code",
      "source": [
        "a = \"Hello!\"\n",
        "b = 'Hello!'\n",
        "\n",
        "print(a == b)"
      ],
      "metadata": {
        "id": "kwqRkKP5CiiC",
        "outputId": "c09006b0-9d48-40a0-d1f2-cd8efa5e9ff3",
        "colab": {
          "base_uri": "https://localhost:8080/"
        }
      },
      "execution_count": null,
      "outputs": [
        {
          "output_type": "stream",
          "name": "stdout",
          "text": [
            "True\n"
          ]
        }
      ]
    },
    {
      "cell_type": "markdown",
      "source": [
        "## logical operators\n",
        "* `and` returns `True` only when **both** are `True`\n",
        "* `or` returns `True` when **at least one** is `True`\n",
        "* `not` returns the opposite value"
      ],
      "metadata": {
        "id": "j3YaX84JNTpI"
      }
    },
    {
      "cell_type": "code",
      "source": [
        "print(a and b)  # returns False since b is False\n",
        "print(a or b)   # returns True since a is True\n",
        "print(not a)    # returns False since a is True\n",
        "print(not b)    # returns True since b is False"
      ],
      "metadata": {
        "id": "oeut9qk9NpQo",
        "colab": {
          "base_uri": "https://localhost:8080/"
        },
        "outputId": "9d3caa44-84c2-45a7-8a95-bdfd09c8bd35"
      },
      "execution_count": null,
      "outputs": [
        {
          "output_type": "stream",
          "name": "stdout",
          "text": [
            "False\n",
            "True\n",
            "False\n",
            "True\n"
          ]
        }
      ]
    },
    {
      "cell_type": "code",
      "source": [
        "# combination of comparison and logical operators\n",
        "\n",
        "a = 1\n",
        "b = 2\n",
        "c = 3\n",
        "\n",
        "condition_1 = a < b  # True\n",
        "condition_2 = b > c  # False\n",
        "\n",
        "print(condition_1 and condition_2)  # False # 모두 참이어야 True\n",
        "print(condition_1 or condition_2)   # True # 하나만 참이어도 True\n",
        "print(not condition_1)              # False # 반대값이 나옴\n",
        "print(not condition_2)              # True"
      ],
      "metadata": {
        "id": "Ye9KLGRgN9mD",
        "colab": {
          "base_uri": "https://localhost:8080/"
        },
        "outputId": "11048122-d298-41f6-fabe-6ec6cd5ceef6"
      },
      "execution_count": null,
      "outputs": [
        {
          "output_type": "stream",
          "name": "stdout",
          "text": [
            "False\n",
            "True\n",
            "False\n",
            "True\n"
          ]
        }
      ]
    },
    {
      "cell_type": "markdown",
      "source": [
        "# Control flows"
      ],
      "metadata": {
        "id": "JHLVPd7OE8OV"
      }
    },
    {
      "cell_type": "markdown",
      "source": [
        "# if\n",
        "* executes certain code blocks conditionally\n",
        "* based on whether a specified condition is `True` or `False`\n",
        "* if condition: job 1 특정 조건이 있으면 작업을 하라 ~\n",
        "* 조건에 따라서 무엇을 할 지 결정하는 것\n",
        "\n",
        "```\n",
        "if condition:\n",
        "  # code to be executed if the condition is true\n",
        "```\n",
        "\n",
        "\n",
        "\n",
        "\n"
      ],
      "metadata": {
        "id": "UhkY-EOtE_o-"
      }
    },
    {
      "cell_type": "code",
      "source": [
        "is_hungry = False\n",
        "if is_hungry:\n",
        "  print(\"I am hungry.\") # 실행이 안됨  - false 라서"
      ],
      "metadata": {
        "id": "E6kB-5jQF874"
      },
      "execution_count": null,
      "outputs": []
    },
    {
      "cell_type": "code",
      "source": [
        "temperature = 32\n",
        "\n",
        "if temperature >= 30:\n",
        "  print(\"hot\")"
      ],
      "metadata": {
        "colab": {
          "base_uri": "https://localhost:8080/"
        },
        "id": "4o7laUEDGEws",
        "outputId": "d6ca9d24-987d-4db6-9d84-513cf03abd90"
      },
      "execution_count": null,
      "outputs": [
        {
          "output_type": "stream",
          "name": "stdout",
          "text": [
            "hot\n"
          ]
        }
      ]
    },
    {
      "cell_type": "markdown",
      "source": [
        "# else\n",
        "* specifies what should happen when the condition is `False`\n",
        "\n",
        "\n"
      ],
      "metadata": {
        "id": "2QsqUJKSGMC4"
      }
    },
    {
      "cell_type": "code",
      "source": [
        "temperature = 20\n",
        "\n",
        "if temperature >= 30:\n",
        "  print(\"hot\")\n",
        "else: # 조건이 안맞는 경우에\n",
        "  print(\"cold\")"
      ],
      "metadata": {
        "colab": {
          "base_uri": "https://localhost:8080/"
        },
        "id": "SLOjZs8SGTjI",
        "outputId": "bd6df97d-adb3-4b5e-a857-7f0e8dcdd2e1"
      },
      "execution_count": null,
      "outputs": [
        {
          "output_type": "stream",
          "name": "stdout",
          "text": [
            "cold\n"
          ]
        }
      ]
    },
    {
      "cell_type": "markdown",
      "source": [
        "#elif\n",
        "* used to handle multiple conditions"
      ],
      "metadata": {
        "id": "2oCKhbDQGdGE"
      }
    },
    {
      "cell_type": "code",
      "source": [
        "# 1. hot\n",
        "# 2. warm\n",
        "# 3. cold\n",
        "# 조건을 하나 더 추가하고 싶을 때\n",
        "\n",
        "temperature = 8\n",
        "\n",
        "if temperature >= 30: # temperature가 30도 이하일 때\n",
        "  print(\"hot\")\n",
        "elif temperature <= 10: # 10도 이하 30도 아래인 경우만 따져서 거름 elif를 통해 추가 조건 가능\n",
        "  print(\"cold\")\n",
        "else: # 나머지 경우 10 < temperature < 30 인 경우 위에 두 조건을 만족하지 않는 경우\n",
        "  print(\"warm\")"
      ],
      "metadata": {
        "colab": {
          "base_uri": "https://localhost:8080/"
        },
        "id": "RExjEAtIGgZN",
        "outputId": "54dba350-9e90-4a34-adf4-c8140c29cdc7"
      },
      "execution_count": null,
      "outputs": [
        {
          "output_type": "stream",
          "name": "stdout",
          "text": [
            "cold\n"
          ]
        }
      ]
    },
    {
      "cell_type": "markdown",
      "source": [
        "# complex condition"
      ],
      "metadata": {
        "id": "zBx4nkNuHC_F"
      }
    },
    {
      "cell_type": "code",
      "source": [
        "# a and b -> True\n",
        "temperature = 15\n",
        "\n",
        "if temperature > 10 and temperature < 30:\n",
        "  print(\"warm\")  # 조건을 이어서 쓰기 가능. 여러 조건을 한번에 쓰기보다 나눠서 쓰는것을 선호"
      ],
      "metadata": {
        "colab": {
          "base_uri": "https://localhost:8080/"
        },
        "id": "AQg-WbamHHpP",
        "outputId": "c8b33070-044b-4d45-8fee-78d631b6bb31"
      },
      "execution_count": null,
      "outputs": [
        {
          "output_type": "stream",
          "name": "stdout",
          "text": [
            "warm\n"
          ]
        }
      ]
    },
    {
      "cell_type": "markdown",
      "source": [
        "# 조건문 정리\n",
        "\n",
        "\n",
        "\n",
        "```\n",
        "if condition_1:\n",
        "  job_1\n",
        "elif condition_2:\n",
        "  job_2\n",
        "else:\n",
        "  job_3\n",
        "\n",
        "\n"
      ],
      "metadata": {
        "id": "rcIV8GUvHYY6"
      }
    },
    {
      "cell_type": "markdown",
      "source": [
        "# for loop\n",
        "* 반복작업\n",
        "* iterates over a sequence of elements\n",
        "\n",
        "\n",
        "```\n",
        "for element in sequence:\n",
        " # Code to be executed for each element\n",
        "```\n",
        "\n",
        "\n",
        "\n"
      ],
      "metadata": {
        "id": "cYyBXfXyHtfb"
      }
    },
    {
      "cell_type": "code",
      "source": [
        "# list\n",
        "\n",
        "a = [1, 2, 3]\n",
        "\n",
        "# print(a[0])\n",
        "# print(a[1])\n",
        "# print(a[2])\n",
        "\n",
        "for i in a: # a는 여러 element를 가진 seqeunce여야함 i는 아무것도 아닌 임시 변수. 순차적으로 element가 들어감 print를 여러번 쓸 필요 없이 반복작업 가능\n",
        "  print(i)"
      ],
      "metadata": {
        "colab": {
          "base_uri": "https://localhost:8080/"
        },
        "id": "XpMSX1GCIBED",
        "outputId": "ef056adc-a9f2-4fea-87da-82750ba54e9c"
      },
      "execution_count": null,
      "outputs": [
        {
          "output_type": "stream",
          "name": "stdout",
          "text": [
            "1\n",
            "2\n",
            "3\n"
          ]
        }
      ]
    },
    {
      "cell_type": "code",
      "source": [
        "for i in [1, 2, 3]:\n",
        "  print(i)"
      ],
      "metadata": {
        "colab": {
          "base_uri": "https://localhost:8080/"
        },
        "id": "OVVBBan4IPXm",
        "outputId": "a5b2a79e-2825-4291-ae4f-5553913ea01b"
      },
      "execution_count": null,
      "outputs": [
        {
          "output_type": "stream",
          "name": "stdout",
          "text": [
            "1\n",
            "2\n",
            "3\n"
          ]
        }
      ]
    },
    {
      "cell_type": "code",
      "source": [
        "# str\n",
        "\n",
        "for c in \"hello\": # 하나씩 순차적으로 빠져나와서 반복작업 for loop scope안에서 반복작업이 일어남. 앞에 들여쓰기가 중요함- 들여쓰기가 있는 부분이 적용범위\n",
        "  print(c)"
      ],
      "metadata": {
        "colab": {
          "base_uri": "https://localhost:8080/"
        },
        "id": "8PBJE9xwIRQ9",
        "outputId": "deb86109-3ff1-448b-eef9-5125d7ea4085"
      },
      "execution_count": null,
      "outputs": [
        {
          "output_type": "stream",
          "name": "stdout",
          "text": [
            "h\n",
            "e\n",
            "l\n",
            "l\n",
            "o\n"
          ]
        }
      ]
    },
    {
      "cell_type": "code",
      "source": [
        "# dict.items()\n",
        "\n",
        "scores = {\"A\": 20, \"B\": 60, \"C\": 10, \"D\": 70}\n",
        "\n",
        "scores.items() # dict 속성함수  tuple이 원소인 list가 나옴\n",
        "# dict_items([('A', 20), ('B', 60), ('C', 10), ('D', 70)])\n",
        "\n",
        "for k, v in scores.items():\n",
        "  print(k) # 원소 하나가 tuple 하나\n",
        "  print(v)"
      ],
      "metadata": {
        "colab": {
          "base_uri": "https://localhost:8080/"
        },
        "id": "c78Gp3O6Ibkb",
        "outputId": "676f2b69-6fb3-45d6-86d6-d6db269dd432"
      },
      "execution_count": null,
      "outputs": [
        {
          "output_type": "stream",
          "name": "stdout",
          "text": [
            "A\n",
            "20\n",
            "B\n",
            "60\n",
            "C\n",
            "10\n",
            "D\n",
            "70\n"
          ]
        }
      ]
    },
    {
      "cell_type": "code",
      "source": [
        "scores = {\"Emily\": 90, \"Liam\": 88, \"Ethan\": 94, \"Olivia\": 92}\n",
        "\n",
        "for k, v in scores.items():\n",
        "  print(f\"{k}: {v}\")"
      ],
      "metadata": {
        "colab": {
          "base_uri": "https://localhost:8080/"
        },
        "id": "iRtt5J3GI_1C",
        "outputId": "dca411f2-3ea1-470c-ce53-78a802215d67"
      },
      "execution_count": null,
      "outputs": [
        {
          "output_type": "stream",
          "name": "stdout",
          "text": [
            "Emily: 90\n",
            "Liam: 88\n",
            "Ethan: 94\n",
            "Olivia: 92\n"
          ]
        }
      ]
    },
    {
      "cell_type": "markdown",
      "source": [
        "# range\n",
        "* generates a sequnce of numbers within a specified range\n",
        "\n",
        "\n",
        "```\n",
        "range(x)\n",
        "```\n",
        "\n"
      ],
      "metadata": {
        "id": "HsSQW29oKf_Q"
      }
    },
    {
      "cell_type": "code",
      "source": [
        "# for i. n [1,2,3,4,5,6, ...,100]: #특정 간격으로 숫자를 사용하는 list > range 사용\n",
        "\n",
        "for i in range(4): # for i. n [1,2,3,4,5,6, ...,100]: #특정 간격으로 숫자를 사용하는 list > range 사용\n",
        "  print(i)\n",
        "\n",
        "  # range(1, 4): 시작점1 부터 4 아래까지\n",
        "  # range(num) 0~num -1이 만들어짐"
      ],
      "metadata": {
        "colab": {
          "base_uri": "https://localhost:8080/"
        },
        "id": "nlD3u2Q_JGWJ",
        "outputId": "ede9ab9f-9a4b-4549-c649-7d95c39c1529"
      },
      "execution_count": null,
      "outputs": [
        {
          "output_type": "stream",
          "name": "stdout",
          "text": [
            "0\n",
            "1\n",
            "2\n",
            "3\n"
          ]
        }
      ]
    },
    {
      "cell_type": "code",
      "source": [
        "for i in range(1, 4): # generates from 1 to 3\n",
        "  print(i)"
      ],
      "metadata": {
        "colab": {
          "base_uri": "https://localhost:8080/"
        },
        "id": "1S9Q5-uDLGze",
        "outputId": "97fce3bf-f8af-4095-9600-e462b4db94f9"
      },
      "execution_count": null,
      "outputs": [
        {
          "output_type": "stream",
          "name": "stdout",
          "text": [
            "1\n",
            "2\n",
            "3\n"
          ]
        }
      ]
    },
    {
      "cell_type": "markdown",
      "source": [
        "* if elif else - 원하는 만큼 조건을 두고 조건에 따라 다른 코드를 돌릴 수 있음\n",
        "* for i in a: a에서 element를 하나씩 뽑아내서 반복작업을 하는데 유용"
      ],
      "metadata": {
        "id": "oQB2-iHILNzC"
      }
    },
    {
      "cell_type": "markdown",
      "source": [
        "# while\n",
        "* repeatedly executes a code block as long as specified condition is `True`\n",
        "\n",
        "\n",
        "\n",
        "```\n",
        "while condition:\n",
        "  #Code to be executed while condition is true\n",
        "```\n",
        "\n"
      ],
      "metadata": {
        "id": "XkoAieYlLQvV"
      }
    },
    {
      "cell_type": "code",
      "source": [
        "# while loop- 특정 조건을 만족할때까지 반복작업 시키고 싶을 때\n",
        "# for loop은 정해져 있는 횟수의 반복작업\n",
        "\n",
        "# while condition:\n",
        "#  repeat\n",
        "\n",
        "# while True: #조건을 만족하지 않게 되면 멈춤 제약을 걸지않으면 무한대로 반복작업 함 항상 True이기 때문\n",
        "#  print(\"hello\") #hello가 계속 나오게 됨\n",
        "# while loop: 특정 조건을 만족할 때까지 반복작업"
      ],
      "metadata": {
        "id": "ycqqqlU1Lk4T"
      },
      "execution_count": null,
      "outputs": []
    },
    {
      "cell_type": "code",
      "source": [
        "a = 0\n",
        "\n",
        "while a < 5:\n",
        "  a += 1  # a = a + 1\n",
        "  print(a)"
      ],
      "metadata": {
        "colab": {
          "base_uri": "https://localhost:8080/"
        },
        "id": "t59kAMpELlUF",
        "outputId": "c0c985f2-26bd-4688-fe37-c864a654e2b8"
      },
      "execution_count": null,
      "outputs": [
        {
          "output_type": "stream",
          "name": "stdout",
          "text": [
            "1\n",
            "2\n",
            "3\n",
            "4\n",
            "5\n"
          ]
        }
      ]
    },
    {
      "cell_type": "code",
      "source": [
        "a = input(\"Type in: \") # 사용자에게서 input을 받는 것. type in 함수를 쓰면 프로그램을 사용하는 사람이 직접 입력하도록 함\n",
        "# 입력한 값이 변수 a가 됨"
      ],
      "metadata": {
        "colab": {
          "base_uri": "https://localhost:8080/"
        },
        "id": "Zi8IgpD5LsIJ",
        "outputId": "023a6660-d1b4-434e-bc69-22bd305a1faa"
      },
      "execution_count": null,
      "outputs": [
        {
          "name": "stdout",
          "output_type": "stream",
          "text": [
            "Type in: hi\n"
          ]
        }
      ]
    },
    {
      "cell_type": "markdown",
      "source": [
        "# break\n",
        "* exits a loop based on a certain condition\n",
        "* while loop을 멈춤"
      ],
      "metadata": {
        "id": "4cj_HbrVL7TZ"
      }
    },
    {
      "cell_type": "code",
      "source": [
        "while True:\n",
        "  print(\"Hello\")\n",
        "  break # while loop을 멈춤"
      ],
      "metadata": {
        "colab": {
          "base_uri": "https://localhost:8080/"
        },
        "id": "x2haydJvMVW9",
        "outputId": "920b835b-404a-4c1f-8837-7aba657b6804"
      },
      "execution_count": null,
      "outputs": [
        {
          "output_type": "stream",
          "name": "stdout",
          "text": [
            "Hello\n"
          ]
        }
      ]
    },
    {
      "cell_type": "code",
      "source": [
        "while True:\n",
        "  user_input = input(\"Type in: \")\n",
        "\n",
        "  if user_input == \"quit\":\n",
        "    break"
      ],
      "metadata": {
        "colab": {
          "base_uri": "https://localhost:8080/"
        },
        "id": "Xh2r7GVNMBrd",
        "outputId": "c5a6cb61-4580-43df-c57f-44ab1e7234d4"
      },
      "execution_count": null,
      "outputs": [
        {
          "name": "stdout",
          "output_type": "stream",
          "text": [
            "Type in: hello\n",
            "Type in: python\n",
            "Type in: this\n",
            "Type in: quit\n"
          ]
        }
      ]
    },
    {
      "cell_type": "markdown",
      "source": [
        "# Function\n",
        "* a reusable code block that performs a specific task\n",
        "\n",
        "\n",
        "\n",
        "```\n",
        "def x(parameters):\n",
        "  # Code to perform a specific task\n",
        "  return result\n",
        "```\n",
        "\n"
      ],
      "metadata": {
        "id": "PMK982HxMbUV"
      }
    },
    {
      "cell_type": "code",
      "source": [
        "# 원하는 함수를 만들고 싶을 때\n",
        "# a + b function\n",
        "\n",
        "def add(a, b):\n",
        "  result = a + b\n",
        "  return result\n",
        "\n",
        "r = add(1,2)\n",
        "print(r)"
      ],
      "metadata": {
        "colab": {
          "base_uri": "https://localhost:8080/"
        },
        "id": "ksjONJD-MmDM",
        "outputId": "53f72859-e9f8-4002-de91-7109708b184b"
      },
      "execution_count": null,
      "outputs": [
        {
          "output_type": "stream",
          "name": "stdout",
          "text": [
            "3\n"
          ]
        }
      ]
    },
    {
      "cell_type": "code",
      "source": [
        "# a function without inputs and outputs\n",
        "\n",
        "def greeting(): # input을 안받는 함수\n",
        "  print(\"Hello\") # return이 필요없는 함수도 존재\n",
        "\n",
        "greeting()"
      ],
      "metadata": {
        "colab": {
          "base_uri": "https://localhost:8080/"
        },
        "id": "EvZBbs_BMyZm",
        "outputId": "6c7d6d6c-55eb-4eb9-b29c-db45e3f1fa34"
      },
      "execution_count": null,
      "outputs": [
        {
          "output_type": "stream",
          "name": "stdout",
          "text": [
            "Hello\n"
          ]
        }
      ]
    },
    {
      "cell_type": "markdown",
      "source": [
        "# Scope\n",
        "* the region of code where a particular variable is accessible"
      ],
      "metadata": {
        "id": "XlbAXvYINEd6"
      }
    },
    {
      "cell_type": "markdown",
      "source": [
        "local scope(function)\n",
        "* variables created inside a function have a local scope\n",
        "* only accessible within that function"
      ],
      "metadata": {
        "id": "SP5gozcoNET8"
      }
    },
    {
      "cell_type": "code",
      "source": [
        "# scope\n",
        "# 변수 중 함수 안에서 만들어지는 변수가 있음- 함수 범위 내에서만 존재하는 변수\n",
        "# 함수 밖에서는 존재하지 않는 변수\n",
        "# global variable 함수의 바깥에서 정의된 변수\n",
        "\n",
        "a = \"python\" # global variable 언제 어디서나 존재하는 변수 (global scope) 함수 밖에서도 접근 가능\n",
        "\n",
        "def dummy(x): # x는 local variable\n",
        "  print(x + a) # \"hello\" + \"python\"\n",
        "\n",
        "dummy(\"hello\") # call a function. 사용자가 함수를 call 하면 안에서 x가 만들어지고 돌아간다"
      ],
      "metadata": {
        "colab": {
          "base_uri": "https://localhost:8080/"
        },
        "id": "JNkd4dnONakl",
        "outputId": "81875109-1f8a-447b-bdb0-e56bbc638954"
      },
      "execution_count": null,
      "outputs": [
        {
          "output_type": "stream",
          "name": "stdout",
          "text": [
            "hellopython\n"
          ]
        }
      ]
    },
    {
      "cell_type": "code",
      "source": [
        "def my_function():\n",
        "  x = 10 # local scope\n",
        "  print(x)\n",
        "\n",
        "my_function()\n",
        "print(x) # raises an error since x is a local variable"
      ],
      "metadata": {
        "colab": {
          "base_uri": "https://localhost:8080/",
          "height": 225
        },
        "id": "-dcpKmJWN-Pr",
        "outputId": "97548c3d-b0cd-4c0c-8e49-d7f75f042630"
      },
      "execution_count": null,
      "outputs": [
        {
          "output_type": "stream",
          "name": "stdout",
          "text": [
            "10\n"
          ]
        },
        {
          "output_type": "error",
          "ename": "NameError",
          "evalue": "ignored",
          "traceback": [
            "\u001b[0;31m---------------------------------------------------------------------------\u001b[0m",
            "\u001b[0;31mNameError\u001b[0m                                 Traceback (most recent call last)",
            "\u001b[0;32m<ipython-input-24-a67fc83d90b1>\u001b[0m in \u001b[0;36m<cell line: 6>\u001b[0;34m()\u001b[0m\n\u001b[1;32m      4\u001b[0m \u001b[0;34m\u001b[0m\u001b[0m\n\u001b[1;32m      5\u001b[0m \u001b[0mmy_function\u001b[0m\u001b[0;34m(\u001b[0m\u001b[0;34m)\u001b[0m\u001b[0;34m\u001b[0m\u001b[0;34m\u001b[0m\u001b[0m\n\u001b[0;32m----> 6\u001b[0;31m \u001b[0mprint\u001b[0m\u001b[0;34m(\u001b[0m\u001b[0mx\u001b[0m\u001b[0;34m)\u001b[0m \u001b[0;31m# raises an error since x is a local variable\u001b[0m\u001b[0;34m\u001b[0m\u001b[0;34m\u001b[0m\u001b[0m\n\u001b[0m",
            "\u001b[0;31mNameError\u001b[0m: name 'x' is not defined"
          ]
        }
      ]
    },
    {
      "cell_type": "markdown",
      "source": [
        "global scope\n",
        "* variables defined outside of any function(typically at the top level of a script) have a global scope\n",
        "* can be accessed from any part of the code"
      ],
      "metadata": {
        "id": "LOykzVrTOSC5"
      }
    },
    {
      "cell_type": "code",
      "source": [
        "y = 20 # global variable\n",
        "\n",
        "def another_function():\n",
        "  print(y)\n",
        "\n",
        "another_function()\n",
        "print(y)"
      ],
      "metadata": {
        "colab": {
          "base_uri": "https://localhost:8080/"
        },
        "id": "xHdxVcA1Odpj",
        "outputId": "768a7f9e-afcb-4bec-907f-5cbd08dea76d"
      },
      "execution_count": null,
      "outputs": [
        {
          "output_type": "stream",
          "name": "stdout",
          "text": [
            "20\n",
            "20\n"
          ]
        }
      ]
    },
    {
      "cell_type": "code",
      "source": [
        "# data + function + expression\n",
        "\n",
        "a = 1 # int\n",
        "b = 3.13 # float\n",
        "\n",
        "c = \"hello\" # str\n",
        "d = [1, 2, 3] # list\n",
        "\n",
        "e + {\"a\":1, \"b\": 2} # dict\n",
        "\n",
        "# if 조건\n",
        "# for 반복작업\n",
        "# while 조건 + 반복작업\n",
        "\n",
        "# def function_name() 특정 함수를 만들 수 있다"
      ],
      "metadata": {
        "id": "7BTarT6pO33f"
      },
      "execution_count": null,
      "outputs": []
    },
    {
      "cell_type": "markdown",
      "source": [
        "If 문"
      ],
      "metadata": {
        "id": "_l7uKmm6eZgB"
      }
    },
    {
      "cell_type": "code",
      "source": [
        "# 1. 숫자비교\n",
        "\n",
        "a = 8\n",
        "b = 3\n",
        "\n",
        "if a > b:\n",
        "  print(\"a is greater than b\")\n",
        "elif a < b:\n",
        "  print(\"a is less than b\")\n",
        "else: # a == b\n",
        "  print(\"a is equal to b\")"
      ],
      "metadata": {
        "colab": {
          "base_uri": "https://localhost:8080/"
        },
        "id": "M22qfQUxebDw",
        "outputId": "51b42601-5916-4e23-d270-532c4fe90e74"
      },
      "execution_count": null,
      "outputs": [
        {
          "output_type": "stream",
          "name": "stdout",
          "text": [
            "a is greater than b\n"
          ]
        }
      ]
    },
    {
      "cell_type": "code",
      "source": [
        "def compare(num1, num2):\n",
        "  if num1 > num2:\n",
        "    print(\"num1 is greater than num2\")\n",
        "  elif num1 < num2:\n",
        "    print(\"num1 is less than num2\")\n",
        "  else:\n",
        "    print(\"num1 is equal to num2\")\n",
        "\n",
        "compare(8, 3) # 함수의 장점: 코드를 반복하지 않고 사용 가능함"
      ],
      "metadata": {
        "colab": {
          "base_uri": "https://localhost:8080/"
        },
        "id": "HC-3fbm2exzh",
        "outputId": "a9651269-3fb8-44b8-d0a1-fcc615a3fa02"
      },
      "execution_count": null,
      "outputs": [
        {
          "output_type": "stream",
          "name": "stdout",
          "text": [
            "num1 is greater than num2\n"
          ]
        }
      ]
    },
    {
      "cell_type": "markdown",
      "source": [
        "for loop"
      ],
      "metadata": {
        "id": "Jb8DYrHlfIeV"
      }
    },
    {
      "cell_type": "code",
      "source": [
        "# 장바구니 속 물건 확인\n",
        "a = [\"Apple\", \"Banana\", \"Cheese\", \"Shampoo\"]\n",
        "\n",
        "for item in a:\n",
        "  print(item)"
      ],
      "metadata": {
        "colab": {
          "base_uri": "https://localhost:8080/"
        },
        "id": "Pt3iOmCQfJlQ",
        "outputId": "31842d44-566d-45b0-b993-632e45d7073b"
      },
      "execution_count": null,
      "outputs": [
        {
          "output_type": "stream",
          "name": "stdout",
          "text": [
            "Apple\n",
            "Banana\n",
            "Cheese\n",
            "Shampoo\n"
          ]
        }
      ]
    },
    {
      "cell_type": "code",
      "source": [
        "def print_items(items):\n",
        "  for item in items:\n",
        "    print(item)"
      ],
      "metadata": {
        "id": "ma80uXWRfQCZ"
      },
      "execution_count": null,
      "outputs": []
    },
    {
      "cell_type": "code",
      "source": [
        "print_items([\"Apple\", \"Banana\", \"Cheese\", \"Shampoo\"])"
      ],
      "metadata": {
        "colab": {
          "base_uri": "https://localhost:8080/"
        },
        "id": "EtoVaAXSfhPd",
        "outputId": "f9c1c360-27be-4069-cb00-dbc0e4334971"
      },
      "execution_count": null,
      "outputs": [
        {
          "output_type": "stream",
          "name": "stdout",
          "text": [
            "Apple\n",
            "Banana\n",
            "Cheese\n",
            "Shampoo\n"
          ]
        }
      ]
    },
    {
      "cell_type": "markdown",
      "source": [
        "# 1. string formatting\n",
        "* the process of creating formatted strings\n",
        "* can insert and combine variables, values, and expressions within a string"
      ],
      "metadata": {
        "id": "_yEA5UgFfnNX"
      }
    },
    {
      "cell_type": "markdown",
      "source": [
        "# .format\n",
        "* creates placeholders enclosed in `{}`\n",
        "* replaces these placeholders with values"
      ],
      "metadata": {
        "id": "fiKmOlJkfzyQ"
      }
    },
    {
      "cell_type": "code",
      "source": [
        "name = \"Josh\"\n",
        "age = 25\n",
        "\n",
        "print(\"My name is {} and I'm {} years old\".format(name, age))\n",
        "# \"My name is {}\".format()  > .format() string에서 쓸 수 있는 값"
      ],
      "metadata": {
        "colab": {
          "base_uri": "https://localhost:8080/"
        },
        "id": "QrW3JE4Sf7m_",
        "outputId": "e851a63b-6577-45f1-ba5e-f373614a1189"
      },
      "execution_count": null,
      "outputs": [
        {
          "output_type": "stream",
          "name": "stdout",
          "text": [
            "My name is Josh and I'm 25 years old\n"
          ]
        }
      ]
    },
    {
      "cell_type": "code",
      "source": [
        "name = input(\"name: \")\n",
        "age = input(\"age: \") #user에게 직접 입력값을 받기 가능\n",
        "\n",
        "print(\"My name is {} and I am {} years old\".format(name, age))"
      ],
      "metadata": {
        "colab": {
          "base_uri": "https://localhost:8080/"
        },
        "id": "GQg-3Gh5f-Tq",
        "outputId": "77e454c7-b5fb-48d2-cb8b-c320d6b12f08"
      },
      "execution_count": null,
      "outputs": [
        {
          "output_type": "stream",
          "name": "stdout",
          "text": [
            "name: Alice\n",
            "age: 30\n",
            "My name is Alice and I am 30 years old\n"
          ]
        }
      ]
    },
    {
      "cell_type": "markdown",
      "source": [
        "# f-strings\n",
        "* can be used in Python >= 3.6\n",
        "* similar to `.format()` but more readable"
      ],
      "metadata": {
        "id": "Pf8gRVP7g0uk"
      }
    },
    {
      "cell_type": "code",
      "source": [
        "name = input(\"name: \")\n",
        "age = input(\"age: \")\n",
        "\n",
        "print(f\"My name is {name} and I am {age} years old\") # 가장 간단한 방법"
      ],
      "metadata": {
        "colab": {
          "base_uri": "https://localhost:8080/"
        },
        "id": "FEDVzUjug_Ty",
        "outputId": "a6a6a1d0-5bc9-4956-f0ae-2a0f4c99a024"
      },
      "execution_count": null,
      "outputs": [
        {
          "output_type": "stream",
          "name": "stdout",
          "text": [
            "name: Emily\n",
            "age: 20\n",
            "My name is Emily and I am 20 years old\n"
          ]
        }
      ]
    },
    {
      "cell_type": "markdown",
      "source": [
        "# File handling"
      ],
      "metadata": {
        "id": "88quFDmPhLvm"
      }
    },
    {
      "cell_type": "code",
      "source": [
        "#데이터 읽고 쓰기\n",
        "# connecting to Google Drive\n",
        "from google.colab import drive # google drive 연동하는 함수코드\n",
        "\n",
        "drive.mount('/content/drive') # google drive의 경로를 실행 할 때마다 허용해야함"
      ],
      "metadata": {
        "colab": {
          "base_uri": "https://localhost:8080/"
        },
        "id": "P90oKPpLhN1F",
        "outputId": "301388bc-8130-4ca6-9752-356fa4375dbd"
      },
      "execution_count": null,
      "outputs": [
        {
          "output_type": "stream",
          "name": "stdout",
          "text": [
            "Mounted at /content/drive\n"
          ]
        }
      ]
    },
    {
      "cell_type": "markdown",
      "source": [
        "# open\n",
        "\n",
        "* used to open and interact with files\n",
        "* `r`: read mode\n",
        "* `w`: wrtie mode\n",
        "\n",
        "\n",
        "```\n",
        "f = open(x, 'w')\n",
        "f.close()\n",
        "```\n",
        "\n"
      ],
      "metadata": {
        "id": "5w06J3t0hhwd"
      }
    },
    {
      "cell_type": "code",
      "source": [
        "f = open(\"/content/drive/My Drive/a.txt\", \"w\") # writes an empty file\n",
        "#파일을 여는데 a.txt라는 파일을 써보겠다 (pipe, 연결고라) file object 생성\n",
        "f.write(\"Hello!\\n\") # 특정한 한 줄 안에서 txt를 붙여줌. 띄어쓰기를 하려면 특정 문자가 필요 \\n\n",
        "f.write(\"python\\n\") # 내용 채우기\n",
        "f.write(\"AAA\\n\")\n",
        "f.close() # 반드시 닫아야함"
      ],
      "metadata": {
        "id": "cloe0or9hq0A"
      },
      "execution_count": null,
      "outputs": []
    },
    {
      "cell_type": "markdown",
      "source": [
        "# .write\n",
        "* writes data to a file\n",
        "\n",
        "\n",
        "```\n",
        "f.write(x)\n",
        "```\n",
        "\n"
      ],
      "metadata": {
        "id": "EAUV4ToBh7tI"
      }
    },
    {
      "cell_type": "code",
      "source": [
        "f = open(\"/content/drive/My Drive/a.txt\", \"r\") # read\n",
        "content = f.read()\n",
        "f.close()"
      ],
      "metadata": {
        "id": "RyKCOOJmiSTm"
      },
      "execution_count": null,
      "outputs": []
    },
    {
      "cell_type": "code",
      "source": [
        "print(content)"
      ],
      "metadata": {
        "colab": {
          "base_uri": "https://localhost:8080/"
        },
        "id": "kbQh1O4xiXvx",
        "outputId": "da42a15a-7028-4a56-aeec-dc9814872daa"
      },
      "execution_count": null,
      "outputs": [
        {
          "output_type": "stream",
          "name": "stdout",
          "text": [
            "Hello!\n",
            "python\n",
            "AAA\n",
            "\n"
          ]
        }
      ]
    },
    {
      "cell_type": "code",
      "source": [
        "# 한 줄 한 줄을 element로 해서 list로 데이터를 받는게 좋음\n",
        "\n",
        "f = open(\"/content/drive/My Drive/a.txt\", \"r\")\n",
        "content = f.readlines()\n",
        "f.close"
      ],
      "metadata": {
        "colab": {
          "base_uri": "https://localhost:8080/"
        },
        "id": "EovBruteicTs",
        "outputId": "2e704b74-4667-4b63-bc71-bcfd1f6930c0"
      },
      "execution_count": null,
      "outputs": [
        {
          "output_type": "execute_result",
          "data": {
            "text/plain": [
              "<function TextIOWrapper.close()>"
            ]
          },
          "metadata": {},
          "execution_count": 42
        }
      ]
    },
    {
      "cell_type": "code",
      "source": [
        "print(content) # \\n가 들어가있음 없애야함"
      ],
      "metadata": {
        "colab": {
          "base_uri": "https://localhost:8080/"
        },
        "id": "it_0-HtDiovE",
        "outputId": "74f52bd3-f758-45ab-bdf1-2128aa914484"
      },
      "execution_count": null,
      "outputs": [
        {
          "output_type": "stream",
          "name": "stdout",
          "text": [
            "['Hello!\\n', 'python\\n', 'AAA\\n']\n"
          ]
        }
      ]
    },
    {
      "cell_type": "code",
      "source": [
        "a = \"Bye\\n\"\n",
        "print(a.strip()) # 공백 제거"
      ],
      "metadata": {
        "colab": {
          "base_uri": "https://localhost:8080/"
        },
        "id": "LPwobn2oisXv",
        "outputId": "38cfc400-39f7-4ad7-a23d-a3b12bb01bd7"
      },
      "execution_count": null,
      "outputs": [
        {
          "output_type": "stream",
          "name": "stdout",
          "text": [
            "Bye\n"
          ]
        }
      ]
    },
    {
      "cell_type": "code",
      "source": [
        "for i in content:\n",
        "  print(i)"
      ],
      "metadata": {
        "colab": {
          "base_uri": "https://localhost:8080/"
        },
        "id": "wrt7VW8Qixbs",
        "outputId": "0ab5ea85-2879-495f-c89f-f277a0feaccd"
      },
      "execution_count": null,
      "outputs": [
        {
          "output_type": "stream",
          "name": "stdout",
          "text": [
            "Hello!\n",
            "\n",
            "python\n",
            "\n",
            "AAA\n",
            "\n"
          ]
        }
      ]
    },
    {
      "cell_type": "code",
      "source": [
        "# content[0] = content[0].strip()\n",
        "# content[1] = content[1].strip()\n",
        "# content[2] = content[2].strip() # new line 제거\n",
        "\n",
        "# print(content)\n",
        "\n",
        "for i in range(len(content)):\n",
        "  content[i] = content[i].strip() # for loop을 이용한 재할당\n",
        "\n",
        "print(content)"
      ],
      "metadata": {
        "colab": {
          "base_uri": "https://localhost:8080/"
        },
        "id": "ypLa30fniz9H",
        "outputId": "c107d0eb-d4fe-4dd4-855c-25c9ef95064e"
      },
      "execution_count": null,
      "outputs": [
        {
          "output_type": "stream",
          "name": "stdout",
          "text": [
            "['Hello!', 'python', 'AAA']\n"
          ]
        }
      ]
    },
    {
      "cell_type": "code",
      "source": [
        "# simpler version of `open` and `close`\n",
        "with open('/content/drive/My Drive/a.txt', 'w') as f:\n",
        "  f.write('I\\n')  # \\n is a newline character\n",
        "  f.write('am\\n')\n",
        "  f.write('using\\n')\n",
        "  f.write('python.\\n')"
      ],
      "metadata": {
        "id": "ROzElh5siBGv"
      },
      "execution_count": null,
      "outputs": []
    },
    {
      "cell_type": "markdown",
      "source": [
        "# .read\n",
        "* reads the entire contents of a file as a single string\n",
        "\n",
        "\n",
        "```\n",
        "f.read()\n",
        "```\n",
        "\n"
      ],
      "metadata": {
        "id": "i7sQZPNQjO5s"
      }
    },
    {
      "cell_type": "code",
      "source": [
        "with open('/content/drive/My Drive/a.txt', 'r') as f:\n",
        "  content = f.read()\n",
        "\n",
        "  print(content)"
      ],
      "metadata": {
        "colab": {
          "base_uri": "https://localhost:8080/"
        },
        "id": "xAyOvjwLjV4P",
        "outputId": "330534e3-6ba8-4cdb-8f3f-5c4dd2604fe2"
      },
      "execution_count": null,
      "outputs": [
        {
          "output_type": "stream",
          "name": "stdout",
          "text": [
            "I\n",
            "am\n",
            "using\n",
            "python.\n",
            "\n"
          ]
        }
      ]
    },
    {
      "cell_type": "markdown",
      "source": [
        "# .readlines\n",
        "* read the lines of a file into a list"
      ],
      "metadata": {
        "id": "K9lMVwQsjyeU"
      }
    },
    {
      "cell_type": "code",
      "source": [
        "# 한 줄 한 줄을 element로 해서 list로 데이터를 받는게 좋음\n",
        "\n",
        "# f = open(\"/content/drive/My Drive/a.txt\", \"r\")\n",
        "# content = f.readlines()\n",
        "# f.close\n",
        "\n",
        "# 한 줄 한 줄을 element로 해서 list로 데이터를 받는게 좋음\n",
        "\n",
        "with open(\"/content/drive/My Drive/a.txt\", 'r') as f:\n",
        "  content = f.readlines()\n",
        "print(content) # list comprehension needed"
      ],
      "metadata": {
        "colab": {
          "base_uri": "https://localhost:8080/"
        },
        "id": "9f25cehqj11x",
        "outputId": "4db37082-26f9-4f17-f902-3ecf6aa3be75"
      },
      "execution_count": null,
      "outputs": [
        {
          "output_type": "stream",
          "name": "stdout",
          "text": [
            "['I\\n', 'am\\n', 'using\\n', 'python.\\n']\n"
          ]
        }
      ]
    },
    {
      "cell_type": "markdown",
      "source": [
        "# list comprehension\n",
        "* a simple way to create lists"
      ],
      "metadata": {
        "id": "qAnRzWvSkMvb"
      }
    },
    {
      "cell_type": "code",
      "source": [
        "# for loop\n",
        "\n",
        "a = [1, 2, 3] # a = [2, 3, 4]로 만들고 싶을 때\n",
        "\n",
        "for i in range(len(a)):\n",
        "  a[i] += 1 # a[i] = a[i] + 1과 동일\n",
        "\n",
        "print(a)"
      ],
      "metadata": {
        "colab": {
          "base_uri": "https://localhost:8080/"
        },
        "id": "nr2zTCBqkL2f",
        "outputId": "aa7c37e6-4081-4168-8d28-f77d6d4655f6"
      },
      "execution_count": null,
      "outputs": [
        {
          "output_type": "stream",
          "name": "stdout",
          "text": [
            "[2, 3, 4]\n"
          ]
        }
      ]
    },
    {
      "cell_type": "code",
      "source": [
        "a = [1, 2, 3] # indexing\n",
        "\n",
        "a = [i + 1 for i in a]\n",
        "print(a)"
      ],
      "metadata": {
        "colab": {
          "base_uri": "https://localhost:8080/"
        },
        "id": "E8Jl9vsck32D",
        "outputId": "9b134613-7012-42a9-99a4-7b25e319b3e5"
      },
      "execution_count": null,
      "outputs": [
        {
          "output_type": "stream",
          "name": "stdout",
          "text": [
            "[2, 3, 4]\n"
          ]
        }
      ]
    },
    {
      "cell_type": "code",
      "source": [
        "content = [i.strip() for i in content]\n",
        "print(content)"
      ],
      "metadata": {
        "colab": {
          "base_uri": "https://localhost:8080/"
        },
        "id": "MWLLNnuVk-yh",
        "outputId": "ca103ddf-280c-49af-bbf0-317a33e912fd"
      },
      "execution_count": null,
      "outputs": [
        {
          "output_type": "stream",
          "name": "stdout",
          "text": [
            "['I', 'am', 'using', 'python.']\n"
          ]
        }
      ]
    },
    {
      "cell_type": "markdown",
      "source": [
        "# .strip()\n",
        "* removes leading and trailing whitespaces in a string\n",
        "* 공백 제거\n",
        "\n",
        "\n",
        "```\n",
        "x.strip()\n",
        "```\n",
        "\n"
      ],
      "metadata": {
        "id": "jm6aROoykbVy"
      }
    },
    {
      "cell_type": "code",
      "source": [
        "a = \"Bye\\n\"\n",
        "print(a.strip())"
      ],
      "metadata": {
        "colab": {
          "base_uri": "https://localhost:8080/"
        },
        "id": "rXlJi1u2kmm2",
        "outputId": "9de2db83-38c7-42e0-c07f-169aec42d293"
      },
      "execution_count": null,
      "outputs": [
        {
          "output_type": "stream",
          "name": "stdout",
          "text": [
            "Bye\n"
          ]
        }
      ]
    },
    {
      "cell_type": "markdown",
      "source": [
        "# list comprehension in file handling"
      ],
      "metadata": {
        "id": "sk9CA1nSkrdk"
      }
    },
    {
      "cell_type": "code",
      "source": [
        "content = [i.strip() for i in content] # list comprehension을 통한 \\n 없애기\n",
        "print(content)"
      ],
      "metadata": {
        "colab": {
          "base_uri": "https://localhost:8080/"
        },
        "id": "NuwGMEaZkt1G",
        "outputId": "c9215dbe-5e29-416a-8233-902614a90fa6"
      },
      "execution_count": null,
      "outputs": [
        {
          "output_type": "stream",
          "name": "stdout",
          "text": [
            "['I', 'am', 'using', 'python.']\n"
          ]
        }
      ]
    },
    {
      "cell_type": "code",
      "source": [
        "# 각각 줄에다 특정 format을 쓰고 싶을 때\n",
        "\n",
        "f = open(\"/content/drive/My Drive/a.txt\", \"w\")\n",
        "for i in range(1, 11): # 1, 2, 3, ..., 10\n",
        "  f.write(f\"Line {i}\\n\") # string formatting 변수를 쉽게 text안에 집어넣어서 쓸 수 있음\n",
        "f.close()"
      ],
      "metadata": {
        "id": "WN-gCAtQlata"
      },
      "execution_count": null,
      "outputs": []
    },
    {
      "cell_type": "code",
      "source": [
        "# f = open\n",
        "# f.close() 쉽게\n",
        "\n",
        "with open(\"/content/drive/My Drive/a.txt\", \"w\") as f: # open을 f에 할당하고 closing을 하지 않음 with를 사용해서 open close를 한 줄로\n",
        "  for i in range(10, 21): # file이 open되어 있는 동안을 indent로 표시\n",
        "    f.write(f\"Line {i}\\n\") # indent를 벗어나면 file은 open되어 있지 않은 것 - 굳이 closing 안해도 됨"
      ],
      "metadata": {
        "id": "QOgqV0cfl22n"
      },
      "execution_count": null,
      "outputs": []
    },
    {
      "cell_type": "code",
      "source": [
        "# 1. string formatting\n",
        "\n",
        "# '{}'.format(name)\n",
        "# f'{name}'\n",
        "\n",
        "# 2. file handling\n",
        "# f = open('file_path', 'w')\n",
        "# code\n",
        "\n",
        "# 대안\n",
        "#with open('file_path', 'w') as f:\n",
        "  #closing을 안해도 알아서 닫힘\n",
        "  # for loop을 사용해서 특정 text를 쓰기 가능\n",
        "  #\\n\n",
        "  # .strip() - \\n제거\n",
        "\n",
        "# 3. list comprehension\n",
        "#a = [1, 2, 3, 4]\n",
        "\n",
        "# a[0] = 2\n",
        "# a[1] = 3\n",
        "# a[2] = 4...\n",
        "\n",
        "# for i in range(len(a)):\n",
        "#  a[i] = i + 1\n",
        "\n",
        "# a =[i + 1 for i in a] # 할당을 안해도 알아서 원하는 변수에 indexing없이 할당이 됨"
      ],
      "metadata": {
        "id": "Yr30KQE7mbWu"
      },
      "execution_count": null,
      "outputs": []
    },
    {
      "cell_type": "markdown",
      "source": [
        "# Library\n",
        "\n",
        "* a collection of pre-written codes\n",
        "* provides various functions and tools\n",
        "*   함수들을 묶어서 정리하는 것\n",
        "*   필요한 함수, global variable, 등 하나의 library에 넣어 사용 가능\n",
        "*   library를 사용하고 싶을 때 import 사용"
      ],
      "metadata": {
        "id": "SMKiugBAm2g9"
      }
    },
    {
      "cell_type": "markdown",
      "source": [
        "## python standard library\n",
        "* library that comes bundled with python itself\n",
        "* available without the need for external installation"
      ],
      "metadata": {
        "id": "xHwE9W6YnDwy"
      }
    },
    {
      "cell_type": "code",
      "source": [
        "import os # os: python에서 제공하는 library\n",
        "print(os.getcwd()) # returns the current working directory # 작업하는 경로가 어딘지 뽑아줌"
      ],
      "metadata": {
        "colab": {
          "base_uri": "https://localhost:8080/"
        },
        "id": "ErQIh1wDnFwP",
        "outputId": "e7f3ccd5-e4f2-4062-cc0a-9e2ec2815f0c"
      },
      "execution_count": null,
      "outputs": [
        {
          "output_type": "stream",
          "name": "stdout",
          "text": [
            "/content\n"
          ]
        }
      ]
    },
    {
      "cell_type": "code",
      "source": [
        "# library 종류\n",
        "# 1. python standard library\n",
        "# 2. external library (외부 library) 만들어서 배포 가능"
      ],
      "metadata": {
        "id": "tKeOCyFrnYFA"
      },
      "execution_count": null,
      "outputs": []
    },
    {
      "cell_type": "code",
      "source": [
        "import math\n",
        "\n",
        "a = 16\n",
        "print(a ** 0.5)\n",
        "\n",
        "print(math.sqrt(a)) # math library의 함수를 이용해서 제곱근 뽑기 가능 # calculates the square root\n",
        "\n",
        "print(math.pi) # 함수 뿐만 아니라 variable도 이용 가능 # a constant that represents π"
      ],
      "metadata": {
        "colab": {
          "base_uri": "https://localhost:8080/"
        },
        "id": "19CkCiUJncXV",
        "outputId": "0d5dcd52-c302-4a8a-f453-52fb90f4a117"
      },
      "execution_count": null,
      "outputs": [
        {
          "output_type": "stream",
          "name": "stdout",
          "text": [
            "4.0\n",
            "4.0\n",
            "3.141592653589793\n"
          ]
        }
      ]
    },
    {
      "cell_type": "markdown",
      "source": [
        "## external library\n",
        "* not part of python standard library\n",
        "* needs to be separately installed with `pip` in the terminal\n",
        "* created by third-party developers\n",
        "\n",
        "external library를 import 할 때\n",
        "\n",
        "terminal에서 할 때, 따로 설치가 필요함\n",
        "e.g. numpy를 import할 때 error\n",
        "\n",
        "terminal에서는\n",
        "pip install numpy 로\n",
        "pip이라는 외부 라이브러리를 설치하는 프로그램을 가져와서 사용하여 외부 라이브러리를 설치해야함\n",
        "\n",
        "실제 terminal 환경에서는 pip을 이용해서 install해야함\n",
        "\n",
        "google computer에도 알아서 pip이 돌아가고 있음\n",
        "\n",
        "일반 컴퓨터 작업 경로: C:₩Users₩user\n",
        "구글 colab에는 contents라는 폴더 존재\n",
        "현재 작업하는 공간을 print하면 /content라고 나옴\n",
        "import os\n",
        "print(os.getcwd()) > /content\n",
        "google colab에서 사용하는 임의의 컴퓨터 안 contents라는 폴더 안에 공간이 만들어지고 거기에서 코딩을 돌리는 것- 구글 내부 컴퓨터\n",
        "local computer와 달리 구글 내부 컴퓨터에 있는 이미지나 파일 접근이 쉽지 않음 > google drive를 연동해서 접근\n",
        "mount 함수 : /content/drive - content 폴더 안의 drive라는 폴더 생성 후 그 안에 우리의 실제  google drive와 연결하는 것- 일종의 sync\n",
        "drive 폴더 안에 파일을 추가하면 실제 구글 드라이브에도 파일이 추가되는 것\n",
        "일시적으로 Drive라는 폴더를 만들어서 실제 구글 드라이브와 sync, 똑같은 환경을 생성하는 것\n",
        "> google computer에서 작업하는 것이 google drive에 반영이 되도록 하는 것\n",
        "\n",
        "쓰는 이유? > 그래프를 그리는 작업을 했을 때 실제 dirve에 저장 > 눈으로 확인 가능\n",
        "생성한 데이터들을 눈으로 쉽게 확인하기 위해서 google drive와 연동하는 작업을 하는 것\n"
      ],
      "metadata": {
        "id": "zfvNZ1aZn8Bi"
      }
    },
    {
      "cell_type": "markdown",
      "source": [
        "# numpy\n",
        "* one of the most fundamental and widely used external libraries\n",
        "* used for numerical and scientific computing"
      ],
      "metadata": {
        "id": "QQ3jpg54oDEC"
      }
    },
    {
      "cell_type": "markdown",
      "source": [
        "## numpy array\n",
        "* fundamental data structure provided by `numpy`\n",
        "* similar to python lists"
      ],
      "metadata": {
        "id": "DQVKId40oHae"
      }
    },
    {
      "cell_type": "code",
      "source": [
        "import numpy as np # # external library # numerical python # 원래는 따로 설치 필요하지만 google computer에서는 이미 깔려있음\n",
        "\n",
        "# matrix. vector [1, 2, 3]"
      ],
      "metadata": {
        "id": "ohB8wCBLoKOs"
      },
      "execution_count": null,
      "outputs": []
    },
    {
      "cell_type": "code",
      "source": [
        "a = np.array([1, 2, 3, 4, -1])\n",
        "print(a)\n",
        "print(type(a)) # list와는 다름\n",
        "print(a.dtype) # data type"
      ],
      "metadata": {
        "colab": {
          "base_uri": "https://localhost:8080/"
        },
        "id": "groQ0e3LoV_o",
        "outputId": "ec0ede6a-6b4d-4c7a-848b-750705042dc5"
      },
      "execution_count": null,
      "outputs": [
        {
          "output_type": "stream",
          "name": "stdout",
          "text": [
            "[ 1  2  3  4 -1]\n",
            "<class 'numpy.ndarray'>\n",
            "int64\n"
          ]
        }
      ]
    },
    {
      "cell_type": "code",
      "source": [
        "print(a[0])\n",
        "print(a[2:4])\n",
        "\n",
        "a[-1] = 5\n",
        "print(a)"
      ],
      "metadata": {
        "colab": {
          "base_uri": "https://localhost:8080/"
        },
        "id": "esZqKq4zoaCB",
        "outputId": "edaa0c7f-23ab-40ae-f163-b3a60f455a28"
      },
      "execution_count": null,
      "outputs": [
        {
          "output_type": "stream",
          "name": "stdout",
          "text": [
            "1\n",
            "[3 4]\n",
            "[1 2 3 4 5]\n"
          ]
        }
      ]
    },
    {
      "cell_type": "code",
      "source": [
        "# list와 다른 장점\n",
        "# 1. list에서 못하는 것들 가능. 수학적 계산을 list에 비해 자유자재로 가능"
      ],
      "metadata": {
        "id": "WmqUAc7Dom0M"
      },
      "execution_count": null,
      "outputs": []
    },
    {
      "cell_type": "markdown",
      "source": [
        "# element-wise calculations"
      ],
      "metadata": {
        "id": "l-8bCpfMpIn4"
      }
    },
    {
      "cell_type": "code",
      "source": [
        "a = np.array([1, 2, 3])\n",
        "\n",
        "print(f\"a + 2: {a + 2}\")\n",
        "print(f\"a - 2: {a - 2}\")\n",
        "print(f\"a * 2: {a * 2}\")\n",
        "print(f\"a / 2: {a / 2}\")\n",
        "print(f\"a ** 2: {a ** 2}\")\n",
        "\n"
      ],
      "metadata": {
        "colab": {
          "base_uri": "https://localhost:8080/"
        },
        "id": "wJ-HxEEmp8rq",
        "outputId": "426942ee-d98d-40ae-bed1-7bd50841898b"
      },
      "execution_count": null,
      "outputs": [
        {
          "output_type": "stream",
          "name": "stdout",
          "text": [
            "a + 2: [3 4 5]\n",
            "a - 2: [-1  0  1]\n",
            "a * 2: [2 4 6]\n",
            "a / 2: [0.5 1.  1.5]\n",
            "a ** 2: [1 4 9]\n"
          ]
        }
      ]
    },
    {
      "cell_type": "code",
      "source": [
        "b = np.array([2, 3, 4])\n",
        "print(f\"a + b: {a + b}\")\n",
        "print(f\"a - b: {a - b}\")\n",
        "print(f\"a * b: {a * b}\")\n",
        "print(f\"a / b: {a / b}\")\n",
        "print(f\"a ** b: {a ** b}\")"
      ],
      "metadata": {
        "colab": {
          "base_uri": "https://localhost:8080/"
        },
        "id": "BwkfszUmqi9L",
        "outputId": "6c2ae2d9-5002-4453-957c-f338ade39e1b"
      },
      "execution_count": null,
      "outputs": [
        {
          "output_type": "stream",
          "name": "stdout",
          "text": [
            "a + b: [3 5 7]\n",
            "a - b: [-1 -1 -1]\n",
            "a * b: [ 2  6 12]\n",
            "a / b: [0.5        0.66666667 0.75      ]\n",
            "a ** b: [ 1  8 81]\n"
          ]
        }
      ]
    },
    {
      "cell_type": "code",
      "source": [
        "b = [1, 2, 3, 4, 5]\n",
        "\n",
        "b = [i + 1 for i in b] # list에서는 각각의 element에 1씩 더할 때 for loop를 써야함\n",
        "print(b)\n",
        "\n",
        "a = a + 1 # np.array에서는 간단하게 각각의 요소에 1씩 더하기 가능\n",
        "print(a)\n",
        "\n",
        "print(a * 2) # np.array에서는 for loop를 사용하지 않고 + - / * 사용 가능"
      ],
      "metadata": {
        "colab": {
          "base_uri": "https://localhost:8080/"
        },
        "id": "vkNgesEaquuY",
        "outputId": "6e9f35d9-e5fc-4f7b-b337-82a648dc6e3e"
      },
      "execution_count": null,
      "outputs": [
        {
          "output_type": "stream",
          "name": "stdout",
          "text": [
            "[2, 3, 4, 5, 6]\n",
            "[2 3 4]\n",
            "[4 6 8]\n"
          ]
        }
      ]
    },
    {
      "cell_type": "markdown",
      "source": [
        "# basic functions\n",
        "* `np.sum`: returns sum of the elements\n",
        "* `np.mean`: returns mean of the elements\n",
        "* `np.min`: returns the smallest element\n",
        "* `np.max`: returns the largest element"
      ],
      "metadata": {
        "id": "dm7-6Vxh1yVo"
      }
    },
    {
      "cell_type": "code",
      "source": [
        "a = np.array([1, 2, 3])\n",
        "b = np.array([1.0, 2.0, 3.0]) # ndarray는 안의 element type을 동일하게 통일시키는 것이 좋음"
      ],
      "metadata": {
        "id": "E6k1PFaE1zCS"
      },
      "execution_count": null,
      "outputs": []
    },
    {
      "cell_type": "code",
      "source": [
        "print(type(a))\n",
        "print(type(b)) # 전체적 타입은 동일"
      ],
      "metadata": {
        "colab": {
          "base_uri": "https://localhost:8080/"
        },
        "id": "3IAazIn62Bkf",
        "outputId": "2334394f-e601-404c-998f-1ac3d902fdfb"
      },
      "execution_count": null,
      "outputs": [
        {
          "output_type": "stream",
          "name": "stdout",
          "text": [
            "<class 'numpy.ndarray'>\n",
            "<class 'numpy.ndarray'>\n"
          ]
        }
      ]
    },
    {
      "cell_type": "code",
      "source": [
        "print(a.dtype)\n",
        "print(b.dtype) # data type"
      ],
      "metadata": {
        "colab": {
          "base_uri": "https://localhost:8080/"
        },
        "id": "hWIoKSLq2Cvq",
        "outputId": "ae1405ab-92c4-4c6f-eedf-be2b1c11aa6f"
      },
      "execution_count": null,
      "outputs": [
        {
          "output_type": "stream",
          "name": "stdout",
          "text": [
            "int64\n",
            "float64\n"
          ]
        }
      ]
    },
    {
      "cell_type": "code",
      "source": [
        "a = np.zeros((2,2)) # 모든 요소가 0인 array를 만들어주는 함수 ()안에는 shape\n",
        "print(a)"
      ],
      "metadata": {
        "colab": {
          "base_uri": "https://localhost:8080/"
        },
        "id": "ZwK3GE4F2EXJ",
        "outputId": "6592f6fc-7c61-4545-ef7e-5decc41a7fcc"
      },
      "execution_count": null,
      "outputs": [
        {
          "output_type": "stream",
          "name": "stdout",
          "text": [
            "[[0. 0.]\n",
            " [0. 0.]]\n"
          ]
        }
      ]
    },
    {
      "cell_type": "code",
      "source": [
        "a = np.array([1, 2, 3])\n",
        "\n",
        "print(np.max(a)) # maximum\n",
        "print(np.min(a)) # minimum"
      ],
      "metadata": {
        "colab": {
          "base_uri": "https://localhost:8080/"
        },
        "id": "pjTW9SO52JJt",
        "outputId": "4ff357b8-6765-4668-805b-b8dc75443c56"
      },
      "execution_count": null,
      "outputs": [
        {
          "output_type": "stream",
          "name": "stdout",
          "text": [
            "3\n",
            "1\n"
          ]
        }
      ]
    },
    {
      "cell_type": "code",
      "source": [
        "a = np.array([1, 2, 3])\n",
        "b = list(a) # ndarray를 list로 바꾸는 함수\n",
        "print(max(b))\n",
        "print(min(b)) # list에도 max, min구하는 함수 존재"
      ],
      "metadata": {
        "colab": {
          "base_uri": "https://localhost:8080/"
        },
        "id": "m3T985wU2Loc",
        "outputId": "25596a18-88cf-4279-cf10-497a27e1ff83"
      },
      "execution_count": null,
      "outputs": [
        {
          "output_type": "stream",
          "name": "stdout",
          "text": [
            "3\n",
            "1\n"
          ]
        }
      ]
    },
    {
      "cell_type": "code",
      "source": [
        "print(a[0]) # list와 ndarray 공통점 - index로 접근\n",
        "print(a[1:])\n",
        "# nparray: python의 list와 비슷한 기능 > 다차원 접근 용이 + 빠른 계산"
      ],
      "metadata": {
        "colab": {
          "base_uri": "https://localhost:8080/"
        },
        "id": "09O3I2N52RcY",
        "outputId": "201c68f7-d352-4933-da72-aaf89de80fef"
      },
      "execution_count": null,
      "outputs": [
        {
          "output_type": "stream",
          "name": "stdout",
          "text": [
            "1\n",
            "[2 3]\n"
          ]
        }
      ]
    },
    {
      "cell_type": "code",
      "source": [
        "# a = np.array([1, 2, 3])\n",
        "\n",
        "print(np.sum(a))\n",
        "print(np.mean(a))\n",
        "print(np.min(a))\n",
        "print(np.max(a))"
      ],
      "metadata": {
        "colab": {
          "base_uri": "https://localhost:8080/"
        },
        "id": "vMvRPlwt2apz",
        "outputId": "b0f4f227-a9b6-4aa1-e4ee-436568f51b26"
      },
      "execution_count": null,
      "outputs": [
        {
          "output_type": "stream",
          "name": "stdout",
          "text": [
            "6\n",
            "2.0\n",
            "1\n",
            "3\n"
          ]
        }
      ]
    },
    {
      "cell_type": "markdown",
      "source": [
        "* `np.zeros`: creates an array filled with zeros\n",
        "* `np.ones`: creates an array filled with ones"
      ],
      "metadata": {
        "id": "Um7l6ihR2ffQ"
      }
    },
    {
      "cell_type": "code",
      "source": [
        "print(np.zeros(2))\n",
        "print(np.ones((2, 2)))"
      ],
      "metadata": {
        "colab": {
          "base_uri": "https://localhost:8080/"
        },
        "id": "Bh0mOswZ2gcI",
        "outputId": "20635da5-eba4-40e5-e5ac-18bb19a67dc2"
      },
      "execution_count": null,
      "outputs": [
        {
          "output_type": "stream",
          "name": "stdout",
          "text": [
            "[0. 0.]\n",
            "[[1. 1.]\n",
            " [1. 1.]]\n"
          ]
        }
      ]
    },
    {
      "cell_type": "code",
      "source": [
        "# 2.\n",
        "\n",
        "a = [1, 2, 3, 4, 5]\n",
        "b = [2, 3, 4, 5, 6]\n",
        "print(a + b) # 각각의 요소를 더하는게 아닌 합쳐짐\n",
        "\n",
        "a = np.array([1, 2, 3, 4, 5, 6])\n",
        "b = np.array([1, 2, 3, 4, 5, 6])\n",
        "print(a + b) # 각각의 요소 더하기, 곱하기, 빼기, 나누기ㄱ가능 - 계산이 쉬움"
      ],
      "metadata": {
        "colab": {
          "base_uri": "https://localhost:8080/"
        },
        "id": "p26ZGxIArPZt",
        "outputId": "eb1e9481-51e8-416b-85d8-a55dd8521d0f"
      },
      "execution_count": null,
      "outputs": [
        {
          "output_type": "stream",
          "name": "stdout",
          "text": [
            "[1, 2, 3, 4, 5, 2, 3, 4, 5, 6]\n",
            "[ 2  4  6  8 10 12]\n"
          ]
        }
      ]
    },
    {
      "cell_type": "code",
      "source": [
        "a = np.array([1, 2, 3, 4, 5])\n",
        "\n",
        "print(np.mean(a)) # 평균\n",
        "print(np.std(a)) # 표준편차"
      ],
      "metadata": {
        "colab": {
          "base_uri": "https://localhost:8080/"
        },
        "id": "bWLau5T-sxPx",
        "outputId": "07874d54-8e64-47a7-d331-f24746c17e98"
      },
      "execution_count": null,
      "outputs": [
        {
          "output_type": "stream",
          "name": "stdout",
          "text": [
            "3.0\n",
            "1.4142135623730951\n"
          ]
        }
      ]
    },
    {
      "cell_type": "code",
      "source": [
        "b = [1, 2, 3, 4, 5]\n",
        "print(sum(b)/len(b)) # list의 경우 평균을 구할 때 sum을 len으로 나누는 방식으로 해야함"
      ],
      "metadata": {
        "colab": {
          "base_uri": "https://localhost:8080/"
        },
        "id": "ZU6zELRxs-e4",
        "outputId": "f9bc0e73-5f88-4851-df92-98971b97efeb"
      },
      "execution_count": null,
      "outputs": [
        {
          "output_type": "stream",
          "name": "stdout",
          "text": [
            "3.0\n"
          ]
        }
      ]
    },
    {
      "cell_type": "markdown",
      "source": [
        "# speed"
      ],
      "metadata": {
        "id": "3E7B7RzytlUC"
      }
    },
    {
      "cell_type": "code",
      "source": [
        "# 2. list보다 연산이 빠름"
      ],
      "metadata": {
        "id": "p7_SCyuvtG28"
      },
      "execution_count": null,
      "outputs": []
    },
    {
      "cell_type": "code",
      "source": [
        "a = [i for i in range(1000000)] # list consisting of 1~999999\n",
        "b = np.array(a)"
      ],
      "metadata": {
        "id": "u_xjy27EtK_U"
      },
      "execution_count": null,
      "outputs": []
    },
    {
      "cell_type": "code",
      "source": [
        "import time # 시간을 재기 위해서 time library를 가져와야함\n",
        "\n",
        "t = time.time() # 코드를 돌릴 당시의 시간대가 나옴"
      ],
      "metadata": {
        "id": "UspNNLrDtXsT"
      },
      "execution_count": null,
      "outputs": []
    },
    {
      "cell_type": "code",
      "source": [
        "import time\n",
        "\n",
        "a = [i for i in range(1000000)]\n",
        "b = np.array(a)\n",
        "\n",
        "start_time = time.time()\n",
        "a = [i**2 for i in a]\n",
        "end_time = time.time()\n",
        "\n",
        "list_time = end_time - start_time\n",
        "print(f\"list: {list_time}\")\n",
        "\n",
        "\n",
        "start_time = time.time()\n",
        "b = b ** 2\n",
        "end_time = time.time()\n",
        "\n",
        "np_time = end_time - start_time\n",
        "print(f\"numpy: {np_time}\")\n",
        "\n",
        "# 더 빠른 이유?\n",
        "# numpy library 안에는 여러가지 코드, script가 숨겨져 있음 - 일부 코드들이 c언어로 작성되어있는 것을 python으로 불러서 쓰는 것\n",
        "# c 언어가 Python보다 컴퓨터에서 빠르게 돌리기 가능. 효율적임\n",
        "# numpy는 c코드로 돌기 때문에 list보다 빠른 것\n",
        "# list는 library는 아니지만 python에 코드가 존재- python으로 코드가 작성\n",
        "# 복잡한 작업을 할 때는 numpy를 쓰는 것이 나음"
      ],
      "metadata": {
        "colab": {
          "base_uri": "https://localhost:8080/"
        },
        "id": "gcN0ZO6guLJ8",
        "outputId": "4d0074f3-3baf-489d-99b2-a420e49bbad9"
      },
      "execution_count": null,
      "outputs": [
        {
          "output_type": "stream",
          "name": "stdout",
          "text": [
            "list: 0.3362140655517578\n",
            "numpy: 0.014129877090454102\n"
          ]
        }
      ]
    },
    {
      "cell_type": "markdown",
      "source": [
        "# multi-dimensional array\n",
        "\n",
        "3. np : 다차원에 접근하기 용이 여러 연산 쉽게 수행 가능"
      ],
      "metadata": {
        "id": "cgT1-l5Qu99D"
      }
    },
    {
      "cell_type": "code",
      "source": [
        "# single dimension (1D)\n",
        "\n",
        "a = np.array([1, 2, 3, 4, 5]) # 1d, 길이 5\n",
        "\n",
        "print(a.shape) # np의 형태를 뽑아주는 것 tuple 형태로 나옴- 값이 변하면 안되기 때문\n",
        "print(f\"shape of a: {a.shape}\")\n",
        "# 1 2\n",
        "# 3 4\n",
        "\n",
        "a = np.array([[1, 2], [3, 4]])\n",
        "print(a)\n",
        "print(a.shape) # (row, column)"
      ],
      "metadata": {
        "colab": {
          "base_uri": "https://localhost:8080/"
        },
        "id": "rQiBvPZuuL2Y",
        "outputId": "06c634c5-6db5-40fc-89eb-e7a813e13372"
      },
      "execution_count": null,
      "outputs": [
        {
          "output_type": "stream",
          "name": "stdout",
          "text": [
            "(5,)\n",
            "shape of a: (5,)\n",
            "[[1 2]\n",
            " [3 4]]\n",
            "(2, 2)\n"
          ]
        }
      ]
    },
    {
      "cell_type": "markdown",
      "source": [
        "* 3x2 2D matrix (3 rows x 2 columns)\n",
        "\n",
        "\n",
        "||column 0|column 1|\n",
        "|-|-|-|\n",
        "|**row 0**|1|2|\n",
        "|**row 1**|3|4|\n",
        "|**row 2**|5|6|"
      ],
      "metadata": {
        "id": "kQ4L86jowinR"
      }
    },
    {
      "cell_type": "code",
      "source": [
        "# multi dimension (2D)\n",
        "\n",
        "b = np.array([[1, 2], [3, 4], [5, 6]])\n",
        "\n",
        "print(b)\n",
        "print(f\"shape of b: {b.shape}\")"
      ],
      "metadata": {
        "colab": {
          "base_uri": "https://localhost:8080/"
        },
        "id": "yYcKPggrwkwI",
        "outputId": "d23a6a2a-0087-47d8-abe3-477bbe84cb37"
      },
      "execution_count": null,
      "outputs": [
        {
          "output_type": "stream",
          "name": "stdout",
          "text": [
            "[[1 2]\n",
            " [3 4]\n",
            " [5 6]]\n",
            "shape of b: (3, 2)\n"
          ]
        }
      ]
    },
    {
      "cell_type": "code",
      "source": [
        "print(f\"row 0: {b[0, :]}\") # row 0 전부\n",
        "print(f\"row 1: {b[1, :]}\") # row 1 전부\n",
        "print(f\"row 2: {b[2, :]}\")"
      ],
      "metadata": {
        "colab": {
          "base_uri": "https://localhost:8080/"
        },
        "id": "ysjsJKqKw18v",
        "outputId": "501d6ff8-91d4-49d2-d7dd-50d52c37c46e"
      },
      "execution_count": null,
      "outputs": [
        {
          "output_type": "stream",
          "name": "stdout",
          "text": [
            "row 0: [1 2]\n",
            "row 1: [3 4]\n",
            "row 2: [5 6]\n"
          ]
        }
      ]
    },
    {
      "cell_type": "code",
      "source": [
        "print(f\"column 0: {b[:, 0]}\") # 0번 column 전체\n",
        "print(f\"column 1: {b[:, 1]}\")"
      ],
      "metadata": {
        "colab": {
          "base_uri": "https://localhost:8080/"
        },
        "id": "bqWngoPxw5oZ",
        "outputId": "8589aa42-c3df-4e2c-aaff-1c97b621420b"
      },
      "execution_count": null,
      "outputs": [
        {
          "output_type": "stream",
          "name": "stdout",
          "text": [
            "column 0: [1 3 5]\n",
            "column 1: [2 4 6]\n"
          ]
        }
      ]
    },
    {
      "cell_type": "code",
      "source": [
        "print(b[0, 0])\n",
        "print(b[0, 1])\n",
        "print(b[1, 0])\n",
        "print(b[1, 1])\n",
        "print(b[2, 0])\n",
        "print(b[2, 1])"
      ],
      "metadata": {
        "colab": {
          "base_uri": "https://localhost:8080/"
        },
        "id": "6engdQpww735",
        "outputId": "fbc2eb6c-d90a-4314-bf26-94f4a77950a2"
      },
      "execution_count": null,
      "outputs": [
        {
          "output_type": "stream",
          "name": "stdout",
          "text": [
            "1\n",
            "2\n",
            "3\n",
            "4\n",
            "5\n",
            "6\n"
          ]
        }
      ]
    },
    {
      "cell_type": "markdown",
      "source": [
        "# np.matmul\n",
        "* performs matrix multiplication"
      ],
      "metadata": {
        "id": "sdTBVHBkyPkC"
      }
    },
    {
      "cell_type": "code",
      "source": [
        "a = np.array([[1, 2, 3], [4, 5, 6]])\n",
        "b = np.array([[1, 2], [3, 4], [5, 6]])\n",
        "\n",
        "print(a)\n",
        "print(f\"shape of a: {a.shape}\")\n",
        "print(b)\n",
        "print(f\"shape of b: {b.shape}\")"
      ],
      "metadata": {
        "colab": {
          "base_uri": "https://localhost:8080/"
        },
        "id": "tKAQnA4PydDr",
        "outputId": "726bd54b-96e4-49bf-9dca-c638cf60d3fa"
      },
      "execution_count": null,
      "outputs": [
        {
          "output_type": "stream",
          "name": "stdout",
          "text": [
            "[[1 2 3]\n",
            " [4 5 6]]\n",
            "shape of a: (2, 3)\n",
            "[[1 2]\n",
            " [3 4]\n",
            " [5 6]]\n",
            "shape of b: (3, 2)\n"
          ]
        }
      ]
    },
    {
      "cell_type": "markdown",
      "source": [
        "`a`\n",
        "\n",
        "|1 2 3|<br />\n",
        "|4 5 6|\n",
        "\n",
        "\n",
        "`b`\n",
        "\n",
        "|1 2|<br />\n",
        "|3 4|<br />\n",
        "|5 6|\n",
        "\n",
        "\n",
        "`np.matmul(a, b)`\n",
        "\n",
        "|1`*`1`+`2`*`3`+`3`*`5 &nbsp;&nbsp;&nbsp;1`*`2`+`2`*`4`+`3`*`6|<br />\n",
        "|4`*`1`+`5`*`3`+`6`*`5 &nbsp;&nbsp;&nbsp;4`*`2`+`5`*`4`+`6`*`6|"
      ],
      "metadata": {
        "id": "hsGY6E_Iy5Al"
      }
    },
    {
      "cell_type": "code",
      "source": [
        "# 다른 shape끼리 계산 - matrix multiplication 행렬 연산\n",
        "# print(a * b) # error - *는 크기가 같은 행렬끼리 각각의 element를 곱할 때 사용\n",
        "c = np.matmul(a, b)\n",
        "# AI model에서 사용\n",
        "# a * 2와는 차이가 있음 > 구별 필요\n",
        "\n",
        "print(c)\n",
        "print(f\"shape of c: {c.shape}\")"
      ],
      "metadata": {
        "colab": {
          "base_uri": "https://localhost:8080/"
        },
        "id": "RrA3KbB1y6xc",
        "outputId": "8f679bee-ae35-4e41-c937-bc994b4dd579"
      },
      "execution_count": null,
      "outputs": [
        {
          "output_type": "stream",
          "name": "stdout",
          "text": [
            "[[22 28]\n",
            " [49 64]]\n",
            "shape of c: (2, 2)\n"
          ]
        }
      ]
    },
    {
      "cell_type": "markdown",
      "source": [
        "#.reshape\n",
        "\n",
        "\n",
        "```\n",
        "a.reshape(b)\n",
        "```\n",
        "* changes the shape of an array\n"
      ],
      "metadata": {
        "id": "LcPe4cFKy-0d"
      }
    },
    {
      "cell_type": "code",
      "source": [
        "print(f\"{a}\\n\")\n",
        "print(a.reshape((3, 2))) # 2차원 이상의 shape은 ()안에 reshape 할 때는 element의 개수가 동일해야 함"
      ],
      "metadata": {
        "colab": {
          "base_uri": "https://localhost:8080/"
        },
        "id": "rR-agnl1zGP6",
        "outputId": "089dfc22-ea8d-47f5-aff4-1dffafacc1d0"
      },
      "execution_count": null,
      "outputs": [
        {
          "output_type": "stream",
          "name": "stdout",
          "text": [
            "[[1 2 3]\n",
            " [4 5 6]]\n",
            "\n",
            "[[1 2]\n",
            " [3 4]\n",
            " [5 6]]\n"
          ]
        }
      ]
    },
    {
      "cell_type": "markdown",
      "source": [
        "### np.transpose\n",
        "`np.transpose(a)`\n",
        "\n",
        "* flips the shape of an array along its axes"
      ],
      "metadata": {
        "id": "BhHWXpq7zkh2"
      }
    },
    {
      "cell_type": "markdown",
      "source": [
        "||student A|student B|student C|\n",
        "|-|-|-|-|\n",
        "|**test 1**|60|81|99|\n",
        "|**test 2**|85|77|95|"
      ],
      "metadata": {
        "id": "UZz5rVDFzlW8"
      }
    },
    {
      "cell_type": "code",
      "source": [
        "a = np.array([[60, 85], [81, 77], [99, 95]])\n",
        "b = np.transpose(a)\n",
        "\n",
        "print(f\"{a}\\n\")\n",
        "print(b)"
      ],
      "metadata": {
        "colab": {
          "base_uri": "https://localhost:8080/"
        },
        "id": "bN7Q0bkPzq_5",
        "outputId": "30af4fbc-a87f-48d9-b123-b9f2fb531a65"
      },
      "execution_count": null,
      "outputs": [
        {
          "output_type": "stream",
          "name": "stdout",
          "text": [
            "[[60 85]\n",
            " [81 77]\n",
            " [99 95]]\n",
            "\n",
            "[[60 81 99]\n",
            " [85 77 95]]\n"
          ]
        }
      ]
    },
    {
      "cell_type": "markdown",
      "source": [
        "# axis"
      ],
      "metadata": {
        "id": "T7u863Be0Ecm"
      }
    },
    {
      "cell_type": "code",
      "source": [
        "print(np.mean(a)) # 전체 평균\n",
        "print(\"\")\n",
        "print(np.mean(b, axis=0)) # 각각의 column에 대해 평균 # each test's mean score\n",
        "print(np.mean(b, axis=1)) # 각각의 row에 대해 평균 # each student's mean score"
      ],
      "metadata": {
        "colab": {
          "base_uri": "https://localhost:8080/"
        },
        "id": "RtZDjVkg0F8c",
        "outputId": "e906413d-4d52-40b7-e2db-f6dbd39dfdf3"
      },
      "execution_count": null,
      "outputs": [
        {
          "output_type": "stream",
          "name": "stdout",
          "text": [
            "82.83333333333333\n",
            "\n",
            "[72.5 79.  97. ]\n",
            "[80.         85.66666667]\n"
          ]
        }
      ]
    },
    {
      "cell_type": "code",
      "source": [
        "# multi dimension\n",
        "\n",
        "b = np.array([[1, 2], [3, 4], [5, 6]])\n",
        "\n",
        "print(b)\n",
        "print(f\"shape of b: {b.shape}\")"
      ],
      "metadata": {
        "colab": {
          "base_uri": "https://localhost:8080/"
        },
        "id": "0ewVJh8G0a-o",
        "outputId": "f18ff1c2-9c75-4f6d-db97-c1b2eac5b764"
      },
      "execution_count": null,
      "outputs": [
        {
          "output_type": "stream",
          "name": "stdout",
          "text": [
            "[[1 2]\n",
            " [3 4]\n",
            " [5 6]]\n",
            "shape of b: (3, 2)\n"
          ]
        }
      ]
    },
    {
      "cell_type": "code",
      "source": [
        "print(b[0, 0]) # row, column\n",
        "print(b[0, 1])\n",
        "print(b[1, 0])\n",
        "print(b[1, 1])\n",
        "print(b[2, 0])\n",
        "print(b[2, 1])\n"
      ],
      "metadata": {
        "colab": {
          "base_uri": "https://localhost:8080/"
        },
        "id": "-L3v30dW0ruu",
        "outputId": "fa173b91-fe6a-4214-cff3-e7ae28c0c8de"
      },
      "execution_count": null,
      "outputs": [
        {
          "output_type": "stream",
          "name": "stdout",
          "text": [
            "1\n",
            "2\n",
            "3\n",
            "4\n",
            "5\n",
            "6\n"
          ]
        }
      ]
    },
    {
      "cell_type": "markdown",
      "source": [
        "## real-world data as numpy array"
      ],
      "metadata": {
        "id": "a73iRjml08cN"
      }
    },
    {
      "cell_type": "markdown",
      "source": [
        "# image"
      ],
      "metadata": {
        "id": "K7h8KMtq09dR"
      }
    },
    {
      "cell_type": "code",
      "source": [
        "from PIL import Image\n",
        "\n",
        "img_url = \"https://raw.githubusercontent.com/ynebin/class2023Fall/main/cat.jpeg\"\n",
        "os.system(\"curl \" + img_url + \" > cat.jpeg\")\n",
        "\n",
        "a = Image.open(\"/content/cat.jpeg\")\n",
        "a = np.array(a)\n",
        "\n",
        "print(f\"shape of a: {a.shape}\")\n",
        "print(a)\n",
        "\n",
        "import PIL # 이미지 관련 library\n",
        "\n",
        "# a = PIL.Image.open(\"/content/drive/My Drive/이미지파일이름\")\n",
        "# image를 np.array로 바꿔서 수정할 수 있다"
      ],
      "metadata": {
        "colab": {
          "base_uri": "https://localhost:8080/"
        },
        "id": "5NuOfcai0sNu",
        "outputId": "609d5251-6f1f-4576-8e98-373cdf1cb604"
      },
      "execution_count": null,
      "outputs": [
        {
          "output_type": "stream",
          "name": "stdout",
          "text": [
            "shape of a: (4000, 6000, 3)\n",
            "[[[ 23  58  34]\n",
            "  [ 26  61  37]\n",
            "  [ 26  61  37]\n",
            "  ...\n",
            "  [ 47 109  60]\n",
            "  [ 48 110  61]\n",
            "  [ 52 114  65]]\n",
            "\n",
            " [[ 24  59  35]\n",
            "  [ 26  61  37]\n",
            "  [ 26  61  37]\n",
            "  ...\n",
            "  [ 51 113  64]\n",
            "  [ 52 114  65]\n",
            "  [ 56 118  69]]\n",
            "\n",
            " [[ 26  61  37]\n",
            "  [ 27  62  38]\n",
            "  [ 26  61  37]\n",
            "  ...\n",
            "  [ 54 117  70]\n",
            "  [ 54 117  70]\n",
            "  [ 56 119  72]]\n",
            "\n",
            " ...\n",
            "\n",
            " [[ 92 123  55]\n",
            "  [ 91 122  54]\n",
            "  [ 92 123  55]\n",
            "  ...\n",
            "  [ 59  85  37]\n",
            "  [ 62  88  40]\n",
            "  [ 62  88  40]]\n",
            "\n",
            " [[ 90 121  53]\n",
            "  [ 90 121  53]\n",
            "  [ 92 123  55]\n",
            "  ...\n",
            "  [ 63  89  41]\n",
            "  [ 66  92  44]\n",
            "  [ 63  89  41]]\n",
            "\n",
            " [[ 89 120  52]\n",
            "  [ 91 122  54]\n",
            "  [ 94 125  57]\n",
            "  ...\n",
            "  [ 64  90  42]\n",
            "  [ 65  91  43]\n",
            "  [ 58  84  36]]]\n"
          ]
        }
      ]
    },
    {
      "cell_type": "markdown",
      "source": [
        "# audio"
      ],
      "metadata": {
        "id": "KxRf6NPz1IqJ"
      }
    },
    {
      "cell_type": "code",
      "source": [
        "import librosa # 음성을 다루는 external library\n",
        "\n",
        "# load audio\n",
        "audio_url = \"https://raw.githubusercontent.com/ynebin/class2023Fall/main/aeiou.wav\"\n",
        "os.system(\"curl \" + audio_url + \" > aeiou.wav\")\n",
        "\n",
        "a, sr = librosa.load(\"aeiou.wav\")\n",
        "\n",
        "print(type(a))\n",
        "print(f\"shape of a: {a.shape}\")\n",
        "print(a)"
      ],
      "metadata": {
        "colab": {
          "base_uri": "https://localhost:8080/"
        },
        "id": "B7bU11Xf1DyS",
        "outputId": "7c1c40d7-1734-4f98-c191-f559a1a09545"
      },
      "execution_count": null,
      "outputs": [
        {
          "output_type": "stream",
          "name": "stdout",
          "text": [
            "<class 'numpy.ndarray'>\n",
            "shape of a: (48600,)\n",
            "[0.00135931 0.0020927  0.00200758 ... 0.0021776  0.00213208 0.00217898]\n"
          ]
        }
      ]
    },
    {
      "cell_type": "code",
      "source": [
        "# load audio\n",
        "wavUrl = \"https://raw.githubusercontent.com/ynebin/class2023Fall/main/aeiou.wav\"\n",
        "os.system(\"curl \" + wavUrl + \" > aeiou.wav\")\n",
        "\n",
        "audio, sr = librosa.load(\"aeiou.wav\")\n",
        "\n",
        "print(audio)\n",
        "print(type(audio))"
      ],
      "metadata": {
        "colab": {
          "base_uri": "https://localhost:8080/"
        },
        "id": "T8WL7hJ11f7q",
        "outputId": "b75b4b49-ba0e-4360-86b1-2a85bafeeae3"
      },
      "execution_count": null,
      "outputs": [
        {
          "output_type": "stream",
          "name": "stdout",
          "text": [
            "[0.00135931 0.0020927  0.00200758 ... 0.0021776  0.00213208 0.00217898]\n",
            "<class 'numpy.ndarray'>\n"
          ]
        }
      ]
    },
    {
      "cell_type": "markdown",
      "source": [
        "# Matplotlib\n",
        "* 데이터 시각화\n",
        "\n",
        "#line plot\n",
        "* used to plot data points and connect them with a continuous line - 그래프\n",
        "* 데이터 분석 가능\n",
        "* 데이터 분석 전 preprocess가 잘 처리가 되었는지도 확인 가능\n",
        "* used to plot data points and connect them with a continuous line\n",
        "function\n",
        "* np.linspace : 일정한 간격의 숫자들을 뽑아줌"
      ],
      "metadata": {
        "id": "sRhOc0f_24_2"
      }
    },
    {
      "cell_type": "code",
      "source": [
        "import matplotlib.pyplot as plt # pyplot- matplotlib안의 더 작은 개체\n",
        "import numpy as np\n",
        "\n",
        "x = np.linspace(0, 10, 100) # x축에 해당하는 값들을 만드는 것 # linspace : (시작값, stop, num) : 0부터 10까지 100개의 일정한 간격의 숫자를 뽑아줌\n",
        "y = np.sin(x) # x의 값들의 각각의 sin값을 구하는 것 # plotting 하기 위해서는 x값과 y값을 list나 nparry의 형식으로 전달해줘야함\n",
        "\n",
        "plt.plot(x, y) # x좌표와 y좌표의 정보를 줘서 plotting 해주는 것\n",
        "plt.title('Simple Line Plot') # 그래프 제목\n",
        "plt.xlabel('X Axis') # x축에 정보를 달아주는 것\n",
        "plt.ylabel('Y Axis') # y축에 정보를 달아주는 것\n",
        "plt.show() # Show를 쓰지 않아도 google colab에서는 그래프가 나타남. 일반적으로는 plt.show를 써야 그래프가 나옴"
      ],
      "metadata": {
        "colab": {
          "base_uri": "https://localhost:8080/",
          "height": 472
        },
        "id": "fgXPoGBZ2o_m",
        "outputId": "f4c549e0-44bf-4d1c-c775-b3df03f5d0f6"
      },
      "execution_count": null,
      "outputs": [
        {
          "output_type": "display_data",
          "data": {
            "text/plain": [
              "<Figure size 640x480 with 1 Axes>"
            ],
            "image/png": "[encoded data removed]"
          },
          "metadata": {}
        }
      ]
    },
    {
      "cell_type": "code",
      "source": [
        "print(np.linspace(0, 10, 100))\n",
        "print(np.linspace(0, 10, 100).shape)"
      ],
      "metadata": {
        "colab": {
          "base_uri": "https://localhost:8080/"
        },
        "id": "28oZz_WE3ZsB",
        "outputId": "73d59cd8-6f8c-4f85-8060-6ee9fdcc8ed8"
      },
      "execution_count": null,
      "outputs": [
        {
          "output_type": "stream",
          "name": "stdout",
          "text": [
            "[ 0.          0.1010101   0.2020202   0.3030303   0.4040404   0.50505051\n",
            "  0.60606061  0.70707071  0.80808081  0.90909091  1.01010101  1.11111111\n",
            "  1.21212121  1.31313131  1.41414141  1.51515152  1.61616162  1.71717172\n",
            "  1.81818182  1.91919192  2.02020202  2.12121212  2.22222222  2.32323232\n",
            "  2.42424242  2.52525253  2.62626263  2.72727273  2.82828283  2.92929293\n",
            "  3.03030303  3.13131313  3.23232323  3.33333333  3.43434343  3.53535354\n",
            "  3.63636364  3.73737374  3.83838384  3.93939394  4.04040404  4.14141414\n",
            "  4.24242424  4.34343434  4.44444444  4.54545455  4.64646465  4.74747475\n",
            "  4.84848485  4.94949495  5.05050505  5.15151515  5.25252525  5.35353535\n",
            "  5.45454545  5.55555556  5.65656566  5.75757576  5.85858586  5.95959596\n",
            "  6.06060606  6.16161616  6.26262626  6.36363636  6.46464646  6.56565657\n",
            "  6.66666667  6.76767677  6.86868687  6.96969697  7.07070707  7.17171717\n",
            "  7.27272727  7.37373737  7.47474747  7.57575758  7.67676768  7.77777778\n",
            "  7.87878788  7.97979798  8.08080808  8.18181818  8.28282828  8.38383838\n",
            "  8.48484848  8.58585859  8.68686869  8.78787879  8.88888889  8.98989899\n",
            "  9.09090909  9.19191919  9.29292929  9.39393939  9.49494949  9.5959596\n",
            "  9.6969697   9.7979798   9.8989899  10.        ]\n",
            "(100,)\n"
          ]
        }
      ]
    },
    {
      "cell_type": "markdown",
      "source": [
        "# custom style"
      ],
      "metadata": {
        "id": "-6EJLkag3dsl"
      }
    },
    {
      "cell_type": "code",
      "source": [
        "plt.plot(x, y, color = 'red', linestyle='--', linewidth=2, label=\"Sine Wave\") # input을 추가해서 그래프를 커스텀 # keyword argument\n",
        "# color : 색, linestyle: 선 종류 linewidth: 선 두계 label은 plt.legend()와 함께 사용. 그래프 밖에서 정보를 추가할 때\n",
        "# def A(x, y, student = 'z') # keyword argument 사용자가 input을 주지 않았을 때의 기본값 사용자가 넣어도 무관.\n",
        "plt.xlabel('X Axis')\n",
        "plt.ylabel('Y Axis')\n",
        "plt.legend()\n",
        "plt.show\n"
      ],
      "metadata": {
        "colab": {
          "base_uri": "https://localhost:8080/",
          "height": 466
        },
        "id": "Phtdarhs3aKL",
        "outputId": "aedd0000-2faf-4790-cbb5-9a9ecb6699a8"
      },
      "execution_count": null,
      "outputs": [
        {
          "output_type": "execute_result",
          "data": {
            "text/plain": [
              "<function matplotlib.pyplot.show(close=None, block=None)>"
            ]
          },
          "metadata": {},
          "execution_count": 114
        },
        {
          "output_type": "display_data",
          "data": {
            "text/plain": [
              "<Figure size 640x480 with 1 Axes>"
            ],
            "image/png": "[encoded data removed]"
          },
          "metadata": {}
        }
      ]
    },
    {
      "cell_type": "markdown",
      "source": [
        "# scatter plot\n",
        "* uses dots to represent values for two different numeric variables"
      ],
      "metadata": {
        "id": "HhNoO5db3lfn"
      }
    },
    {
      "cell_type": "code",
      "source": [
        "study_hours = [2, 3, 5, 1, 4, 6, 2, 8, 7, 9]\n",
        "exam_scores = [65, 75, 80, 60, 85, 90, 70, 95, 88, 92]\n",
        "\n",
        "plt.scatter(study_hours, exam_scores) # 선으로 이어지지 않은 그래프를 그려라\n",
        "plt.title(\"Simple Scatter Plot\")\n",
        "plt.xlabel('Study Hours')\n",
        "plt.ylabel('Exam Scores')\n",
        "plt.show"
      ],
      "metadata": {
        "colab": {
          "base_uri": "https://localhost:8080/",
          "height": 489
        },
        "id": "P85v8Cpk3iUp",
        "outputId": "1b3a61e7-46ab-439b-9ac1-4ab98476b26a"
      },
      "execution_count": null,
      "outputs": [
        {
          "output_type": "execute_result",
          "data": {
            "text/plain": [
              "<function matplotlib.pyplot.show(close=None, block=None)>"
            ]
          },
          "metadata": {},
          "execution_count": 115
        },
        {
          "output_type": "display_data",
          "data": {
            "text/plain": [
              "<Figure size 640x480 with 1 Axes>"
            ],
            "image/png": "[encoded data removed]"
          },
          "metadata": {}
        }
      ]
    },
    {
      "cell_type": "markdown",
      "source": [
        "# bar plot\n",
        "* used to display and compare the frequency, count, total or average of datasets"
      ],
      "metadata": {
        "id": "hxsaOofd3rNL"
      }
    },
    {
      "cell_type": "code",
      "source": [
        "products = ['A', 'B', 'C', 'D']\n",
        "sales = [45000, 65000, 58000, 73000]\n",
        "\n",
        "plt.bar(products, sales)\n",
        "plt.xlabel('Products')\n",
        "plt.ylabel('Sales (in dollars)')\n",
        "plt.title('Sales Performance by Product')\n",
        "plt.show()"
      ],
      "metadata": {
        "id": "L6APaZEH3oUZ"
      },
      "execution_count": null,
      "outputs": []
    },
    {
      "cell_type": "markdown",
      "source": [
        "# histogram\n",
        "* 데이터 분포를 파악하는데 사용"
      ],
      "metadata": {
        "id": "cs0uwV6_3wKp"
      }
    },
    {
      "cell_type": "code",
      "source": [
        "another_exam_scores = [75, 80, 65, 90, 85, 78, 92, 88, 70, 82, 95, 60, 77, 73, 68]\n",
        "\n",
        "plt.hist(another_exam_scores, bins=5, edgecolor='black') # y축(빈도수)은 따로 필요 없음 hist에서 알아서 구해줌\n",
        "# bins : 구간을 어떻게 나눌건지~ 5개의 구간을 나눌 것이다 각각의 bin 안에서 빈도수를 구하는 것 edgecolor: 테두리\n",
        "plt.xlabel('Exam Scores')\n",
        "plt.ylabel('Frequency')\n",
        "plt.title('Distribution of Exam Scores')\n",
        "plt.show()"
      ],
      "metadata": {
        "colab": {
          "base_uri": "https://localhost:8080/",
          "height": 472
        },
        "id": "A5nYfwyn3xGU",
        "outputId": "0bad425a-434b-4e3a-b63b-255c4f0a8f38"
      },
      "execution_count": null,
      "outputs": [
        {
          "output_type": "display_data",
          "data": {
            "text/plain": [
              "<Figure size 640x480 with 1 Axes>"
            ],
            "image/png": "[encoded data removed]"
          },
          "metadata": {}
        }
      ]
    },
    {
      "cell_type": "code",
      "source": [
        "np.linspace(60, 95, 6) # 위 그래프의 구간"
      ],
      "metadata": {
        "colab": {
          "base_uri": "https://localhost:8080/"
        },
        "id": "1ARK31e_3yxz",
        "outputId": "bcb1084e-1f0a-4dba-a166-26b73e9cc886"
      },
      "execution_count": null,
      "outputs": [
        {
          "output_type": "execute_result",
          "data": {
            "text/plain": [
              "array([60., 67., 74., 81., 88., 95.])"
            ]
          },
          "metadata": {},
          "execution_count": 117
        }
      ]
    },
    {
      "cell_type": "markdown",
      "source": [
        "# subplots\n",
        "* multiple plots can be created in a single figure\n",
        "* 여러 그래프를 하나의 화면에\n",
        "\n",
        "* figure: 화면\n",
        "* axes : figure 안에 띄울 각각의 그래프"
      ],
      "metadata": {
        "id": "M1gLNWQ_33HW"
      }
    },
    {
      "cell_type": "code",
      "source": [
        "fig, axes = plt.subplots(nrows=2, ncols=2) # row가 2개, column이 2개인 그래프를 그릴것이다\n",
        "\n",
        "# first subplot\n",
        "axes [0, 0].plot(x, y, color = 'blue') # indexing\n",
        "axes [0, 0].set_title('Top Left') # axes에 대해 틀때는 제목을 set_title이라는 다른 함수 사용\n",
        "\n",
        "# second subplot\n",
        "axes [0, 1].scatter(study_hours, exam_scores, color = 'red')\n",
        "axes [0, 1].set_title('Top Right')\n",
        "\n",
        "# third subplot\n",
        "axes[1, 0].bar(products, sales, color= 'green')\n",
        "axes[1, 0].set_title('Bottom Left')\n",
        "\n",
        "# Fourth subplot\n",
        "axes[1, 1].hist(another_exam_scores, bins=5, color = 'purple', edgecolor = 'black')\n",
        "axes[1, 1].set_title('Bottom Right')\n",
        "\n",
        "plt.tight_layout()\n",
        "plt.show\n"
      ],
      "metadata": {
        "colab": {
          "base_uri": "https://localhost:8080/",
          "height": 677
        },
        "id": "eS-W_fXR31Gd",
        "outputId": "0e23f4f4-6670-4788-91d2-99063ba0f570"
      },
      "execution_count": null,
      "outputs": [
        {
          "output_type": "error",
          "ename": "NameError",
          "evalue": "ignored",
          "traceback": [
            "\u001b[0;31m---------------------------------------------------------------------------\u001b[0m",
            "\u001b[0;31mNameError\u001b[0m                                 Traceback (most recent call last)",
            "\u001b[0;32m<ipython-input-118-a33a87d67e16>\u001b[0m in \u001b[0;36m<cell line: 12>\u001b[0;34m()\u001b[0m\n\u001b[1;32m     10\u001b[0m \u001b[0;34m\u001b[0m\u001b[0m\n\u001b[1;32m     11\u001b[0m \u001b[0;31m# third subplot\u001b[0m\u001b[0;34m\u001b[0m\u001b[0;34m\u001b[0m\u001b[0m\n\u001b[0;32m---> 12\u001b[0;31m \u001b[0maxes\u001b[0m\u001b[0;34m[\u001b[0m\u001b[0;36m1\u001b[0m\u001b[0;34m,\u001b[0m \u001b[0;36m0\u001b[0m\u001b[0;34m]\u001b[0m\u001b[0;34m.\u001b[0m\u001b[0mbar\u001b[0m\u001b[0;34m(\u001b[0m\u001b[0mproducts\u001b[0m\u001b[0;34m,\u001b[0m \u001b[0msales\u001b[0m\u001b[0;34m,\u001b[0m \u001b[0mcolor\u001b[0m\u001b[0;34m=\u001b[0m \u001b[0;34m'green'\u001b[0m\u001b[0;34m)\u001b[0m\u001b[0;34m\u001b[0m\u001b[0;34m\u001b[0m\u001b[0m\n\u001b[0m\u001b[1;32m     13\u001b[0m \u001b[0maxes\u001b[0m\u001b[0;34m[\u001b[0m\u001b[0;36m1\u001b[0m\u001b[0;34m,\u001b[0m \u001b[0;36m0\u001b[0m\u001b[0;34m]\u001b[0m\u001b[0;34m.\u001b[0m\u001b[0mset_title\u001b[0m\u001b[0;34m(\u001b[0m\u001b[0;34m'Bottom Left'\u001b[0m\u001b[0;34m)\u001b[0m\u001b[0;34m\u001b[0m\u001b[0;34m\u001b[0m\u001b[0m\n\u001b[1;32m     14\u001b[0m \u001b[0;34m\u001b[0m\u001b[0m\n",
            "\u001b[0;31mNameError\u001b[0m: name 'products' is not defined"
          ]
        },
        {
          "output_type": "display_data",
          "data": {
            "text/plain": [
              "<Figure size 640x480 with 4 Axes>"
            ],
            "image/png": "[encoded data removed]"
          },
          "metadata": {}
        }
      ]
    },
    {
      "cell_type": "markdown",
      "source": [
        "# Saving and exporting\n",
        "* 컴퓨터에 저장 하는 법"
      ],
      "metadata": {
        "id": "C2hopfFh39HK"
      }
    },
    {
      "cell_type": "code",
      "source": [
        "from google.colab import drive\n",
        "drive.mount('/content/drive')"
      ],
      "metadata": {
        "colab": {
          "base_uri": "https://localhost:8080/"
        },
        "id": "ZsYnmucu362T",
        "outputId": "7f8cc3fe-68a1-4743-f147-19e6d0ad5118"
      },
      "execution_count": null,
      "outputs": [
        {
          "output_type": "stream",
          "name": "stdout",
          "text": [
            "Drive already mounted at /content/drive; to attempt to forcibly remount, call drive.mount(\"/content/drive\", force_remount=True).\n"
          ]
        }
      ]
    },
    {
      "cell_type": "code",
      "source": [
        "plt.plot(x, y)\n",
        "plt.title('Simple Line Plot')\n",
        "plt.xlabel('X Axis')\n",
        "plt.ylabel('Y Axis')\n",
        "plt.savefig('/content/drive/My Drive/simple_line.png')"
      ],
      "metadata": {
        "id": "2RGfnsl_3_yX",
        "outputId": "b6d3f93a-582b-4b95-a5a0-c35ea05cd2af",
        "colab": {
          "base_uri": "https://localhost:8080/",
          "height": 472
        }
      },
      "execution_count": null,
      "outputs": [
        {
          "output_type": "display_data",
          "data": {
            "text/plain": [
              "<Figure size 640x480 with 1 Axes>"
            ],
            "image/png": "[encoded data removed]"
          },
          "metadata": {}
        }
      ]
    }
  ]
}